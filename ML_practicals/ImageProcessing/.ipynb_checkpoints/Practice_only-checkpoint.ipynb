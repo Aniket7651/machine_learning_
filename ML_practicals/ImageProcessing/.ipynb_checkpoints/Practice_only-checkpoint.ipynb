{
 "cells": [
  {
   "cell_type": "markdown",
   "id": "0743b1a2",
   "metadata": {},
   "source": [
    "# Image Processing programs "
   ]
  },
  {
   "cell_type": "code",
   "execution_count": 9,
   "id": "0a7b7a38",
   "metadata": {},
   "outputs": [
    {
     "data": {
      "text/plain": [
       "918"
      ]
     },
     "execution_count": 9,
     "metadata": {},
     "output_type": "execute_result"
    }
   ],
   "source": [
    "from PIL import Image\n",
    "import numpy as np\n",
    "\n",
    "img_jpg = Image.open('ObjImages/car8.jpg')\n",
    "grayScale_img = img_jpg.convert('L')   # convert to gray scale image\n",
    "# array_Image = np.asarray(grayScale_img.getdata()).reshape(grayScale_img.size[1], grayScale_img.size[0])\n",
    "# np.savetxt('imageData.csv', grayScale_img, delimiter=',')\n",
    "arr = np.array(grayScale_img, dtype='int')\n",
    "len(arr.flatten())"
   ]
  },
  {
   "cell_type": "code",
   "execution_count": 8,
   "id": "fb834655",
   "metadata": {},
   "outputs": [
    {
     "name": "stdout",
     "output_type": "stream",
     "text": [
      "(964, 958, 3)\n"
     ]
    }
   ],
   "source": [
    "from PIL import Image\n",
    "import numpy as np\n",
    "\n",
    "img_jpg = Image.open('ObjImages/car2.jpg')\n",
    "array_Image = np.array(img_jpg)\n",
    "print(array_Image.shape)\n",
    "\n",
    "lst = []\n",
    "for row in array_Image:\n",
    "    temp = []\n",
    "    for col in row:\n",
    "        temp.append(str(col))\n",
    "    lst.append(temp)\n",
    "\n",
    "with open('imageData.csv', 'w') as file:\n",
    "    for row in lst:\n",
    "        file.write(','.join(row)+'\\n')"
   ]
  }
 ],
 "metadata": {
  "kernelspec": {
   "display_name": "Python 3 (ipykernel)",
   "language": "python",
   "name": "python3"
  },
  "language_info": {
   "codemirror_mode": {
    "name": "ipython",
    "version": 3
   },
   "file_extension": ".py",
   "mimetype": "text/x-python",
   "name": "python",
   "nbconvert_exporter": "python",
   "pygments_lexer": "ipython3",
   "version": "3.10.4"
  }
 },
 "nbformat": 4,
 "nbformat_minor": 5
}
