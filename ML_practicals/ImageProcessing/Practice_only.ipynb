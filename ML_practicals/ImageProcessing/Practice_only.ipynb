{
 "cells": [
  {
   "cell_type": "markdown",
   "id": "0743b1a2",
   "metadata": {},
   "source": [
    "# Project: Flying Objects Classification Using Neural Network"
   ]
  },
  {
   "cell_type": "markdown",
   "id": "821e0f3f",
   "metadata": {},
   "source": [
    "### Description:\n",
    "Simple approach of Neural Network (tensorflow) where we use different Images of some object such as, planes, drones and helicopters These three objects of images taken from the google. we use all the images with white background only..\n",
    "    This project is created only on python programming language, where we use several python libraries like Pandas, numpy, matplotlib, keras, sklearn and so on."
   ]
  },
  {
   "cell_type": "code",
   "execution_count": 1,
   "id": "e6636a91",
   "metadata": {},
   "outputs": [],
   "source": [
    "from PIL import Image\n",
    "import numpy as np\n",
    "import os"
   ]
  },
  {
   "cell_type": "code",
   "execution_count": 2,
   "id": "7082fcce",
   "metadata": {},
   "outputs": [
    {
     "data": {
      "text/plain": [
       "'2 3 5 6 2'"
      ]
     },
     "execution_count": 2,
     "metadata": {},
     "output_type": "execute_result"
    }
   ],
   "source": [
    "def concat(lis, by=' '):\n",
    "    strs = ''\n",
    "    for i in lis:\n",
    "        strs += str(f'{i}{by}')\n",
    "    return strs[:-1]\n",
    "\n",
    "concat([2, 3, 5, 6, 2])"
   ]
  },
  {
   "cell_type": "code",
   "execution_count": 5,
   "id": "0a7b7a38",
   "metadata": {},
   "outputs": [],
   "source": [
    "path = 'ObjImages/flying_'\n",
    "(flat_data, lables) = ([], [])\n",
    "for i in os.scandir(path):\n",
    "    if 'drone' in i.name:\n",
    "        lable = 0\n",
    "    elif 'helicopter' in i.name:\n",
    "        lable = 1\n",
    "    elif 'plane' in i.name:\n",
    "        lable = 2\n",
    "    lables.append(lable)\n",
    "\n",
    "    img_jpg = Image.open('%s/%s'%(path, i.name))\n",
    "    grayScale_img = img_jpg.convert('L')   # convert to gray scale image\n",
    "\n",
    "    arr = np.asarray(grayScale_img, dtype='int')  # converting image to array using numpy\n",
    "    flat_data.append(concat(arr.flatten()))\n",
    "\n",
    "# array_Image = np.asarray(grayScale_img.getdata()).reshape(grayScale_img.size[1], grayScale_img.size[0])\n",
    "# np.savetxt('imageData.csv', grayScale_img, delimiter=',')"
   ]
  },
  {
   "cell_type": "code",
   "execution_count": 4,
   "id": "55bd0546",
   "metadata": {},
   "outputs": [
    {
     "data": {
      "text/plain": [
       "(52, 52)"
      ]
     },
     "execution_count": 4,
     "metadata": {},
     "output_type": "execute_result"
    }
   ],
   "source": [
    "len(flat_data), len(lables)"
   ]
  }
 ],
 "metadata": {
  "kernelspec": {
   "display_name": "Python 3 (ipykernel)",
   "language": "python",
   "name": "python3"
  },
  "language_info": {
   "codemirror_mode": {
    "name": "ipython",
    "version": 3
   },
   "file_extension": ".py",
   "mimetype": "text/x-python",
   "name": "python",
   "nbconvert_exporter": "python",
   "pygments_lexer": "ipython3",
   "version": "3.10.4"
  }
 },
 "nbformat": 4,
 "nbformat_minor": 5
}
