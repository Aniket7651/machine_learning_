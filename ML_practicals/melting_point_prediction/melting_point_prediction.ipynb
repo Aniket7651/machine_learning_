{
 "cells": [
  {
   "cell_type": "markdown",
   "id": "0d8bc95e",
   "metadata": {},
   "source": [
    "# How we can predict melting point of a drug !\n",
    "\n",
    "## ► Melting point\n",
    "The process of a solid turning into a liquid state is called melting. It is also known as fusion. The reverse process of a liquid becoming a solid, is in turn called solidification. \n",
    "    \"The temperature at which a solid substance melts and transforms into a liquid at atmospheric pressure is termed the melting point of a substance.\"    \n",
    "* ref- https://www.geeksforgeeks.org/what-is-a-melting-point/\n"
   ]
  },
  {
   "cell_type": "markdown",
   "id": "3832b734",
   "metadata": {},
   "source": [
    "## ► Importing all packages and library"
   ]
  },
  {
   "cell_type": "markdown",
   "id": "a05fdc0c",
   "metadata": {},
   "source": [
    "### Importing BeautifulSoup from bs4:\n",
    "BeautifulSoup will use for recognize or fetching the HTML tags in a webpage online, and get the data from a website. like DrugBank database. In this beautiful soup we can identifing the tags from their id and class name. \n",
    "for more- https://beautiful-soup-4.readthedocs.io/en/latest/\n",
    "    \n",
    "### Importing requests:\n",
    "requests is a python library thats allows to send a request to server and gets a response in the form of information like documents webpage."
   ]
  },
  {
   "cell_type": "code",
   "execution_count": 3,
   "id": "8bfa84a5",
   "metadata": {},
   "outputs": [],
   "source": [
    "import csv\n",
    "import os\n",
    "import requests\n",
    "from bs4 import BeautifulSoup"
   ]
  },
  {
   "cell_type": "markdown",
   "id": "f1d3a1bd",
   "metadata": {},
   "source": [
    "## ► Collecting and fetching data"
   ]
  },
  {
   "cell_type": "markdown",
   "id": "8c66e31c",
   "metadata": {},
   "source": [
    "### Reading all Drug Bank id from a csv file\n",
    "\n",
    "Just, create a empty list name as **drugID** for loaded id's from 'rough.csv' file (raw_data/rough.csv), rough.csv file created by the annotation of pubchem data which is in the form of XML and change it to csv from MS EXCEL. This annotation XML file is also present in the folder fo 'raw_data'.\n",
    "For now we are use here only 100 data point for basic prediction. from 100 to 200 of index from **drugID** list."
   ]
  },
  {
   "cell_type": "code",
   "execution_count": null,
   "id": "341e5a62",
   "metadata": {
    "collapsed": true
   },
   "outputs": [],
   "source": [
    "drugID = []\n",
    "with open(\"raw_data/rough.csv\", 'r') as csvf:\n",
    "    for i in csv.reader(csvf):\n",
    "        drugID.append(i[0])\n",
    "drugID[100:200]"
   ]
  },
  {
   "cell_type": "markdown",
   "id": "81f2c209",
   "metadata": {},
   "source": [
    "### Mining drug information from Drug Bank id\n",
    "\n",
    "Making a class **drug_info()** for retrieving information like; smiles, molecular weight, melting point etc. basically **drug_detail()** method fetched all the information, which is stored in the *'dl'* and *'dt'* tags in the HTML code of perticular Drug bank page. So we could try to find only smile of compounds and molecular weight at a time."
   ]
  },
  {
   "cell_type": "code",
   "execution_count": null,
   "id": "87711b7f",
   "metadata": {
    "tags": []
   },
   "outputs": [],
   "source": [
    "class drug_info():\n",
    "\n",
    "    def __init__(self, drugBank_ID, feature_='html'):\n",
    "        self.id = drugBank_ID\n",
    "        self.feature = feature_\n",
    "\n",
    "    def drug_detail(self):\n",
    "        try:\n",
    "            url = 'https://go.drugbank.com/drugs/%s' %self.id\n",
    "            soup = BeautifulSoup(requests.get(url).text, self.feature)\n",
    "            (key_lis, value_lis) = ([], [])\n",
    "            for dt, dd in zip(soup.select('.card-content dl dt'), soup.select('.card-content dl dd')):\n",
    "                key_lis.append(dt.string)\n",
    "                value_lis.append(dd.string)\n",
    "    \n",
    "            data = {key_lis[i]: value_lis[i] for i in range(len(key_lis))}\n",
    "            return data\n",
    "        except:\n",
    "            return 'connection error!'\n",
    "    \n",
    "    def smile(self):\n",
    "        try:\n",
    "            data = self.drug_detail()\n",
    "            return data['SMILES']  # type: ignore\n",
    "        except:\n",
    "            pass\n",
    "        \n",
    "    def mol_Wight(self):\n",
    "        try:\n",
    "            data = self.drug_detail()\n",
    "            return data['Molecular Weight']   # type: ignore\n",
    "        except:\n",
    "            pass\n",
    "        \n",
    "smiles = []\n",
    "for did in drugID[100:105]:\n",
    "    smiles.append(drug_info(did).smile())\n",
    "# print(drug_info('DB00160').drug_detail())\n",
    "smiles"
   ]
  },
  {
   "cell_type": "code",
   "execution_count": 10,
   "id": "c4ae4f62",
   "metadata": {},
   "outputs": [],
   "source": [
    "smiles\n",
    "with open('smile.txt', 'a') as wt:\n",
    "    for line in smiles:\n",
    "        wt.write(line)\n",
    "        wt.write('\\n')"
   ]
  },
  {
   "cell_type": "code",
   "execution_count": null,
   "id": "05caee76",
   "metadata": {},
   "outputs": [],
   "source": [
    "mol_weight = []\n",
    "for idrug in drugID[100:200]:\n",
    "    mol_weight.append(drug_info(idrug).mol_Wight())\n",
    "print(mol_weight)"
   ]
  },
  {
   "cell_type": "code",
   "execution_count": 4,
   "id": "49562710",
   "metadata": {},
   "outputs": [
    {
     "data": {
      "text/plain": [
       "55492.07"
      ]
     },
     "execution_count": 4,
     "metadata": {},
     "output_type": "execute_result"
    }
   ],
   "source": [
    "# type conversion\n",
    "def typefloat(StrType):\n",
    "    try:\n",
    "        return float(StrType)\n",
    "    except:\n",
    "        pass\n",
    "typefloat('55492.07')"
   ]
  },
  {
   "cell_type": "code",
   "execution_count": 27,
   "id": "0846bd82",
   "metadata": {},
   "outputs": [
    {
     "data": {
      "text/plain": [
       "[['melting point (°C)', '109 °C', 'PhysProp'],\n",
       " ['water solubility', '3.5mg/L', 'Not Available'],\n",
       " ['logP', '2.9', 'Not Available']]"
      ]
     },
     "execution_count": 27,
     "metadata": {},
     "output_type": "execute_result"
    }
   ],
   "source": [
    "def chem_property(drug_id, feature_='html'):\n",
    "    '''Search for drugs property by drug id from drug bank database\n",
    "    drug property contains:- melting point, water solubility, logP etc...'''\n",
    "\n",
    "    url = f'https://go.drugbank.com/drugs/{drug_id}'\n",
    "    soup = BeautifulSoup(requests.get(url).text, feature_)\n",
    "    (_list, propertes) = ([], [])\n",
    "    for dd in soup.find('table', {'id': 'experimental-properties'}): # type: ignore \n",
    "        _list.append(dd)  # type: ignore\n",
    "        \n",
    "    soup = BeautifulSoup(f'''{_list[1]}''', 'html')\n",
    "    for text in soup.find_all('td'):\n",
    "        propertes.append(text.get_text())\n",
    "    \n",
    "    return [propertes[i:i+3] for i in range(0,len(propertes),3)]\n",
    "\n",
    "chem_property('DB00178')"
   ]
  },
  {
   "cell_type": "code",
   "execution_count": null,
   "id": "e0928782",
   "metadata": {},
   "outputs": [],
   "source": [
    "melting_point = []\n",
    "for d_id in drugID[100:200]:\n",
    "    for element in chem_property(d_id):\n",
    "        if element[0] == 'melting point (°C)':\n",
    "            melting_point.append(element[1])\n",
    "\n",
    "melting_point # type: ignore"
   ]
  },
  {
   "cell_type": "code",
   "execution_count": null,
   "id": "18cfc698",
   "metadata": {
    "collapsed": true
   },
   "outputs": [],
   "source": [
    "smiles = []\n",
    "with open('smile.txt', 'r') as file:\n",
    "    for line in file.readlines():\n",
    "        smiles.append(line)\n",
    "\n",
    "# ############# find and count Data ############### #\n",
    "\n",
    "count_d_bond_t_bond_C_no_molw = []\n",
    "for smile, molw in zip(smiles, mol_weight):\n",
    "    count_ = []\n",
    "    for character in ['=', '@', 'C']:  # count each double triple bond and number of carbons respectively\n",
    "        count_.append(smile[:-1].count(character))  # smile[:-1] is use for remove or drop new lines\n",
    "    try:\n",
    "        count_.append(typefloat(molw[:-3]))\n",
    "    except TypeError:\n",
    "        count_.append(None)\n",
    "    count_d_bond_t_bond_C_no_molw.append(count_)\n",
    "count_d_bond_t_bond_C_no_molw"
   ]
  },
  {
   "cell_type": "code",
   "execution_count": 88,
   "id": "cf0ca0d1",
   "metadata": {},
   "outputs": [],
   "source": [
    "with open('MP_dataset_100_point.csv', 'w', newline='') as writeCSV:\n",
    "    writer = csv.writer(writeCSV)\n",
    "    writer.writerow(['double bonds', 'triple bonds', 'carbon numbers', 'molecular weight'])\n",
    "    writer.writerows(count_d_bond_t_bond_C_no_molw)"
   ]
  },
  {
   "cell_type": "markdown",
   "id": "a91978bf",
   "metadata": {},
   "source": [
    "## ► Data Preprocessing\n",
    "\n",
    "Data preprocessing is a data mining technique which is used to transform the raw data into a useful and efficient format. I've use here *Normalization* and *Standardization* with mean standard diviation. \n",
    "normalization and standardization is the process of data transformation(this stepis taken in the order to transform the data in appropirate forms suitable for processing.)\n",
    "for more- https://www.geeksforgeeks.org/data-preprocessing-in-data-mining/amp/ "
   ]
  },
  {
   "cell_type": "code",
   "execution_count": 5,
   "id": "5f1da65c",
   "metadata": {},
   "outputs": [
    {
     "data": {
      "text/plain": [
       "[-0.577800924185601,\n",
       " -0.5774956134341787,\n",
       " -0.5767541444664385,\n",
       " 1.732050682086218]"
      ]
     },
     "execution_count": 5,
     "metadata": {},
     "output_type": "execute_result"
    }
   ],
   "source": [
    "class statistics():\n",
    "    \"\"\"\n",
    "    statistics class function is use for the performing basic task about, finding mean or the avg. value of set, variance,\n",
    "    median and standard deviation.\n",
    "    \"\"\"\n",
    "    def __init__(self, x_set):\n",
    "        self.x = x_set\n",
    "        self.N = len(x_set)\n",
    "\n",
    "    def mean(self):\n",
    "        summation = 0.0\n",
    "        for element in self.x:\n",
    "            summation += element\n",
    "        return summation/float(self.N)\n",
    "    \n",
    "    def standard_dev(self):\n",
    "        mean = self.mean()\n",
    "        sumation = 0.0\n",
    "        for i in self.x:\n",
    "            sumation += (i - mean)**2\n",
    "        return (sumation/self.N)**0.5\n",
    "\n",
    "\n",
    "class pre_processing():\n",
    "    '''pre processing class is use for feature engineering, creating the features and labels, \n",
    "    the problem of converting raw data to a dataset which can be\n",
    "    read by machine is called feature engineering.'''\n",
    "\n",
    "    def __init__(self, x_i):\n",
    "        self.x = x_i\n",
    "\n",
    "    def standardization(self):\n",
    "        standardize = []\n",
    "        mean = statistics(self.x).mean()\n",
    "        dev = statistics(self.x).standard_dev()\n",
    "        for j in self.x:\n",
    "            standardize.append((j - mean)/dev)\n",
    "        return standardize\n",
    "\n",
    "    def normalization(self):\n",
    "        normalize = []\n",
    "        (min_j, max_j) = (min(self.x), max(self.x))\n",
    "        for j in self.x:\n",
    "            normalize.append((j - min_j)/(max_j - min_j))\n",
    "        return normalize\n",
    "\n",
    "    def imputation(self):\n",
    "        return (1/float(len(self.x)))*sum(self.x)\n",
    "\n",
    "pre_processing([4.00, 11.00, 28.00, 52963.03]).standardization()"
   ]
  },
  {
   "cell_type": "code",
   "execution_count": 5,
   "id": "49f5a6b1",
   "metadata": {},
   "outputs": [
    {
     "name": "stdout",
     "output_type": "stream",
     "text": [
      "[None, 4.0, 2.0, 1.0, 9.0, 1.0, 1.0, 5.0, 3.0, 3.0, 1.0, 1.0, 6.0, 3.0, 6.0, 7.0, 1.0, 4.0, 2.0, 4.0, 4.0, 10.0, 6.0, 6.0, 4.0, 4.0, 3.0, 14.0, 3.0, 0.0, 8.0, 8.0, 4.0, 3.0, 7.0, 3.0, 3.0, 7.0, 8.0, 2.0, 4.0, 9.0, 6.0, 9.0, 1.0, 5.0, 9.0, 4.0, 8.0, 9.0, 6.0, 4.0, 6.0, 4.0, 8.0, 9.0, 11.0, 1.0, 4.0, 0.0, 1.0, 8.0, 7.0, 4.0, 6.0, 6.0, 2.0, 3.0, 7.0, 4.0, 4.0, 7.0, 4.0, 6.0, 8.0, 6.0, 7.0, 3.0, 8.0, 8.0, 8.0, 3.0, 8.0, 7.0, 9.0, 11.0, 2.0, 5.0, 1.0, 2.0, 7.0, 3.0, 5.0, 10.0, 4.0, 10.0, 8.0, 6.0, 2.0, 2.0, 11.0] [None, 11.0, 2.0, 3.0, 13.0, 1.0, 1.0, 0.0, 5.0, 0.0, 2.0, 2.0, 3.0, 9.0, 0.0, 6.0, 2.0, 0.0, 2.0, 12.0, 0.0, 2.0, 8.0, 3.0, 14.0, 0.0, 0.0, 6.0, 1.0, 2.0, 0.0, 2.0, 2.0, 0.0, 0.0, 0.0, 0.0, 0.0, 0.0, 26.0, 0.0, 0.0, 0.0, 10.0, 26.0, 0.0, 0.0, 0.0, 0.0, 0.0, 0.0, 0.0, 3.0, 0.0, 8.0, 2.0, 9.0, 0.0, 13.0, 0.0, 1.0, 0.0, 0.0, 0.0, 3.0, 0.0, 0.0, 0.0, 0.0, 0.0, 4.0, 0.0, 0.0, 4.0, 0.0, 3.0, 5.0, 4.0, 0.0, 3.0, 0.0, 12.0, 9.0, 0.0, 9.0, 0.0, 0.0, 0.0, 2.0, 0.0, 0.0, 0.0, 0.0, 0.0, 0.0, 0.0, 0.0, 0.0, 0.0, 7.0, 0.0] [None, 28.0, 6.0, 4.0, 21.0, 3.0, 5.0, 20.0, 29.0, 8.0, 8.0, 6.0, 14.0, 27.0, 11.0, 10.0, 5.0, 5.0, 4.0, 23.0, 15.0, 24.0, 23.0, 18.0, 24.0, 11.0, 9.0, 37.0, 10.0, 10.0, 17.0, 19.0, 10.0, 10.0, 20.0, 16.0, 18.0, 13.0, 24.0, 37.0, 8.0, 22.0, 13.0, 33.0, 38.0, 15.0, 28.0, 12.0, 16.0, 16.0, 20.0, 10.0, 21.0, 21.0, 32.0, 24.0, 36.0, 10.0, 24.0, 4.0, 8.0, 17.0, 11.0, 7.0, 19.0, 12.0, 10.0, 10.0, 15.0, 11.0, 11.0, 24.0, 7.0, 21.0, 22.0, 21.0, 26.0, 9.0, 12.0, 28.0, 15.0, 22.0, 22.0, 18.0, 29.0, 23.0, 5.0, 6.0, 3.0, 7.0, 11.0, 15.0, 13.0, 19.0, 16.0, 24.0, 19.0, 11.0, 5.0, 12.0, 24.0] [None, 52963.03, 61815.78, 55492.07, 39088.34, 55492.07, 55492.07, 73502.13, 75591.28, 57304.44, 76689.12, 55492.07, 59970.95, 52963.03, 58164.82, 40545.08, 55492.07, 59590.91, 55492.07, 77402.18, 146405.83, 174205.64, 81782.77, 212695.37, 45140.49, 108319.4, 62751.08, 68417.58, 62154.48, 60310.29, 57342.67, 77402.18, 53925.82, 57342.67, 226937.48, 57342.67, 58293.76, 141477.26, 76447.99, 74144.11, 72313.47, 141477.26, 65083.92, 76709.98, 174205.64, 56848.42, 46247.14, 78805.27, 59855.59, 76447.99, 141477.26, 44794.6, 58293.76, 51420.38, 146405.83, 146405.83, 146405.83, 69331.42, 77402.18, 69365.94, 55009.62, 55627.37, 35032.08, 83867.71, 141477.26, 124978.06, 81794.97, 54083.33, 61153.35, 102582.48, 76929.61, 65083.92, 33898.45, 69365.94, 141477.26, 57342.67, 141477.26, 40896.48, 57525.03, 60674.97, 174205.64, 59855.59, 138639.48, 146405.83, 23468.92, 77402.18, 82128.66, 30614.86, 53215.65, 56256.57, 55627.37, 62579.99, 80454.5, 69365.94, 58293.76, 57882.48, 146405.83, 80560.02, 40097.65, 141477.26, 146405.83]\n"
     ]
    }
   ],
   "source": [
    "(data_row1, data_row2, data_row3, data_row4) = ([], [], [], [])\n",
    "with open('MP_dataset_100_point.csv', 'r') as rdfile:\n",
    "    for line in csv.reader(rdfile):\n",
    "        data_row1.append(typefloat(line[0]))\n",
    "        data_row2.append(typefloat(line[1]))\n",
    "        data_row3.append(typefloat(line[2]))\n",
    "        data_row4.append(typefloat(line[3]))\n",
    "\n",
    "# pre_processing(data_row1[1:]).normalization()\n",
    "print(data_row1, data_row2, data_row3, data_row4)"
   ]
  },
  {
   "cell_type": "code",
   "execution_count": 58,
   "id": "be4ae2f8",
   "metadata": {},
   "outputs": [
    {
     "data": {
      "text/plain": [
       "[['a', 'e', 'i', 'm', 'q'],\n",
       " ['b', 'f', 'j', 'n', 'r'],\n",
       " ['c', 'g', 'k', 'o', 's'],\n",
       " ['d', 'h', 'l', 'p', 't'],\n",
       " [2, 3, 4, 5, 6],\n",
       " [4, 3, 2, 1, 0]]"
      ]
     },
     "execution_count": 58,
     "metadata": {},
     "output_type": "execute_result"
    }
   ],
   "source": [
    "met = [['a','b','c','d', 2, 4],\n",
    "       ['e','f','g','h', 3, 3],\n",
    "       ['i','j','k','l', 4, 2],\n",
    "       ['m','n','o','p', 5, 1],\n",
    "       ['q','r','s','t', 6, 0]]\n",
    "\n",
    "def transform(mtrix):\n",
    "    transf = []\n",
    "    for i in range(len(mtrix[0])):\n",
    "        lisr = []\n",
    "        for j in range(len(mtrix)):\n",
    "            lisr.append(mtrix[j][i])\n",
    "        transf.append(lisr)\n",
    "    return transf\n",
    "\n",
    "transform(met)"
   ]
  },
  {
   "cell_type": "code",
   "execution_count": 7,
   "id": "19079a1c",
   "metadata": {},
   "outputs": [],
   "source": [
    "dataset = (data_row1, data_row2, data_row3, data_row4)\n",
    "preprocess = []\n",
    "for row in dataset:\n",
    "    preprocess.append(pre_processing(row[1:]).normalization())\n",
    "\n",
    "preprocessed_dataset = transform(preprocess)\n",
    "\n",
    "with open('processed_datasetMP.csv', 'w', newline='') as writefile:\n",
    "    writable = csv.writer(writefile)\n",
    "    writable.writerows(preprocessed_dataset)"
   ]
  },
  {
   "cell_type": "code",
   "execution_count": null,
   "id": "db36c287",
   "metadata": {
    "collapsed": true
   },
   "outputs": [],
   "source": [
    "stri = 'about 848.5-856.4 °C (in HCl)'\n",
    "def text_removal(string):\n",
    "    only_dataPoint = ''\n",
    "    for i in string:\n",
    "        if i.isdigit():\n",
    "            only_dataPoint+=i\n",
    "        elif i in ['-', '.', '>', '<', '~']: only_dataPoint+=i\n",
    "    return only_dataPoint\n",
    "        \n",
    "def arth_mean(a, *b):\n",
    "    divd = 0\n",
    "    count = 0\n",
    "    for i in b:\n",
    "        divd+=i\n",
    "        count += 1\n",
    "    return divd/count+1\n",
    "    \n",
    "def MEDIAN(a, b):\n",
    "    ranges = []\n",
    "    for i in range(a, b+1):\n",
    "        ranges.append(i)\n",
    "    n = len(ranges)\n",
    "    if (n%2) == 0:\n",
    "        sterm = (n/2)+1\n",
    "        return ranges[int((n/2+sterm)/2)]\n",
    "    else: return ranges[int((n+1)/2)]\n",
    "\n",
    "def check_Minus(s):\n",
    "    split = s.split('-')[0]\n",
    "    if split == '':\n",
    "        return True\n",
    "    else: \n",
    "        return False\n",
    "    \n",
    "class accuracy_processing:\n",
    "    def range_median(self, strig):    \n",
    "        val1_val2 = strig.split('-')\n",
    "        return MEDIAN(int(typefloat(val1_val2[0])), int(typefloat(val1_val2[1])))\n",
    "    \n",
    "    def symbolic_evaluation(self, strig, by_evaluate=8):\n",
    "        if '<' in strig:\n",
    "            val = typefloat(strig[1:])\n",
    "            return val-by_evaluate\n",
    "        elif '>' in strig:\n",
    "            val = typefloat(strig[1:])\n",
    "            return val+by_evaluate\n",
    "        elif '~' in strig:\n",
    "            val = typefloat(strig[1:])\n",
    "            return val\n",
    "        else: return typefloat(strig)\n",
    "\n",
    "\n",
    "melting = []\n",
    "with open('melting_point.csv', 'r') as file:\n",
    "    for row in csv.reader(file):\n",
    "        melting.append(typefloat(row[0]))\n",
    "\n",
    "preprocessed_melting = pre_processing(melting).normalization()\n",
    "preprocessed_melting"
   ]
  },
  {
   "cell_type": "code",
   "execution_count": 12,
   "id": "2df33716",
   "metadata": {},
   "outputs": [],
   "source": [
    "with open('melting_point.csv', 'w', newline='') as file:\n",
    "    write = csv.writer(file)\n",
    "    rows = zip(preprocessed_melting, drugID[100:200])\n",
    "    for row in rows:\n",
    "        write.writerow(row)"
   ]
  },
  {
   "cell_type": "markdown",
   "id": "1b3135ca",
   "metadata": {},
   "source": [
    "## ► Apply linear regression"
   ]
  },
  {
   "cell_type": "code",
   "execution_count": 2,
   "id": "0c05899f",
   "metadata": {},
   "outputs": [],
   "source": [
    "class load_csv():\n",
    "    \"\"\"\n",
    "    class contain many types of methods which use to read data.\n",
    "    by load_csv([PATH_OF_FILE]).dataset(column, upto[row]) also read dataset and seperate feature and lable\n",
    "    through load_csv([PATH_OF_FILE]).featured_dataset(upto[rows]), can also use top function(upto), and tail(upto) function\n",
    "    rows upto you are selected\n",
    "    \"\"\"\n",
    "    # specifying path by init\n",
    "    def __init__(self, file_path):\n",
    "        self.file = file_path\n",
    "\n",
    "    # display dataset by two arguments column and upto\n",
    "    # column = all ----- for represent all the column take's only all, and other's integer\n",
    "    # upto = all ------- for representing all the data of a csv file, row also take's only all, and other's integer\n",
    "    def dataset(self, column='all', upto='all'):\n",
    "        '''read dataset with column number and upto rows number by default it's set on the all column \n",
    "        and all rows, but we can use number of column and rows'''\n",
    "        try:\n",
    "            # step to store data in row list variable\n",
    "            rows = []\n",
    "            # creating a function for converting string to floating point for allowing machine readable\n",
    "            def float_type(point):\n",
    "                floats = []\n",
    "                try:\n",
    "                    # converting each itration to floats\n",
    "                    for i in point:\n",
    "                        floats.append(float(i))\n",
    "                except ValueError:\n",
    "                    # except pass value error \n",
    "                    pass\n",
    "                return floats\n",
    "\n",
    "            # float converting each point not including j-dimension\n",
    "            def float_type_each(point):\n",
    "                try:\n",
    "                    floats = float(point)\n",
    "                    return floats\n",
    "                except ValueError:\n",
    "                    pass\n",
    "                \n",
    "\n",
    "            # open file and manipulate as csvf instance\n",
    "            with open(self.file, 'r') as csvf:\n",
    "                for row in csv.reader(csvf):\n",
    "                    # check if all column is se\n",
    "                    # print all row \n",
    "                    if column == 'all':\n",
    "                        rows.append([i for i in float_type(row[:])])\n",
    "                    else:\n",
    "                        # else print a single particular column\n",
    "                        rows.append(float_type_each(row[column]))\n",
    "                # close the csv file\n",
    "                csvf.close()\n",
    "            # check if upto selected all\n",
    "            # it's return all row\n",
    "            if upto == 'all':\n",
    "                return rows[:]\n",
    "            else:\n",
    "                # else return row upto, where you are selected\n",
    "                return rows[:upto+1]\n",
    "        except IndexError:\n",
    "            # return error if you are selected wrong column\n",
    "            return f\"column {column} not exist in your dataset\"\n",
    "    \n",
    "    def featured_dataset(self, upto='all'):\n",
    "        '''featured dataset is allow to split features and lable returns two value one is feature and second is\n",
    "        lable with arguments of rows'''\n",
    "        try:\n",
    "            # making empty to store feature in rows and lables in lable list\n",
    "            feature = []\n",
    "            lable = []\n",
    "            def float_type(point):\n",
    "                floats = []\n",
    "                try:\n",
    "                    for i in point:\n",
    "                        floats.append(float(i))\n",
    "                except ValueError:\n",
    "                    pass\n",
    "                return floats\n",
    "\n",
    "            # open file and manipulate as csvf instance\n",
    "            with open(self.file, 'r') as csvf:\n",
    "                for row in csv.reader(csvf):\n",
    "                     \n",
    "                    # print all row \n",
    "                    # select all column except last most..\n",
    "                    feature.append([i for i in float_type(row[:-1])])\n",
    "                    # last column is selected as lables\n",
    "                    lable.append(row[-1])\n",
    "                # close the csv file\n",
    "                csvf.close()\n",
    "            # check if upto selected all\n",
    "            # it's return all row\n",
    "            if upto == 'all':\n",
    "                return feature[1:], lable[1:]\n",
    "            else:\n",
    "                # else return row upto, where you are selected\n",
    "                return feature[1:upto+1], lable[1:upto+1] \n",
    "        except IndexError:\n",
    "            # return error if you are selected wrong column or row\n",
    "            return \"unexpected column/row in your dataset\"\n",
    "\n",
    "    def top(self, upto):\n",
    "        '''function use for read top of the data upto desired rows'''\n",
    "        select = self.dataset()\n",
    "        return select[:upto]\n",
    "\n",
    "    # this is same from above fuction but, it's use to read data rows from downward side (tail)\n",
    "    def tail(self, upto):\n",
    "        '''returns last most desired data points thsts, take argument as upto[rows]'''\n",
    "        select = self.dataset()\n",
    "        # -upto: is use for last point in list to be read upto ....\n",
    "        return select[-upto:]\n",
    "\n",
    "    def text_csv(self, upto='all'):\n",
    "        '''To use for loading text data, if csv have text, character data which is exactly a string type\n",
    "        load_csv(PATH_OF_FILE).text_csv(upto[rows])'''\n",
    "        try:\n",
    "            feature = []\n",
    "            lable = []\n",
    "            with open(self.file, 'r') as csvf:\n",
    "                for row in csv.reader(csvf):\n",
    "                    # print all row \n",
    "                    # select all column except last most..\n",
    "                    feature.append(row[:-1])\n",
    "                    # last column is selected as lables\n",
    "                    lable.append(row[-1])\n",
    "                # close the csv file\n",
    "                csvf.close()\n",
    "                # check if upto selected all\n",
    "                # it's return all row\n",
    "            if upto == 'all':\n",
    "                return feature[1:], lable[1:]\n",
    "            else:\n",
    "                # else return row upto, where you are selected\n",
    "                return feature[1:upto+1], lable[1:upto+1]\n",
    "        except IndexError:\n",
    "            # return error if you are selected wrong column or row\n",
    "            return \"unexpected column/row in your dataset\"\n",
    "\n",
    "def datasetLoader(path, cols='all'):\n",
    "    Xdataset = []\n",
    "    def float_type(point):\n",
    "        floats = []\n",
    "        try:\n",
    "            # converting each itration to floats\n",
    "            for i in point:\n",
    "                  floats.append(float(i))\n",
    "        except ValueError:\n",
    "            # except pass value error \n",
    "            pass\n",
    "        return floats\n",
    "    \n",
    "    with open(path, 'r') as rfile:\n",
    "        for row in csv.reader(rfile):\n",
    "            if cols != 'all':\n",
    "                Xdataset.append(float_type(row[:cols]))\n",
    "            else:\n",
    "                Xdataset.append(float_type(row[:]))\n",
    "    return Xdataset"
   ]
  },
  {
   "cell_type": "code",
   "execution_count": 6,
   "id": "69a615e3",
   "metadata": {},
   "outputs": [],
   "source": [
    "def concatenate(met_a, met_b, axis):\n",
    "    e = []\n",
    "    if axis == 1:\n",
    "        for i, j in zip(met_a, met_b):\n",
    "            e.append(i+j)\n",
    "        return e\n",
    "    elif axis == 0:\n",
    "        return met_a+met_b\n",
    "\n",
    "def shape(metrix):\n",
    "    (cols, rows) = (0, 0)\n",
    "    for i in metrix:\n",
    "        rows+=1\n",
    "    for j in metrix[0]:\n",
    "        cols+=1\n",
    "    return (rows, cols)\n",
    "\n",
    "def ones(shape, multiply=1.0, type=float, metrixShape=1):\n",
    "    metrix = []\n",
    "    for r in range(shape[0]):\n",
    "        cols = []\n",
    "        for c in range(shape[1]):\n",
    "            if type == int:\n",
    "                cols.append(int(1.*multiply))\n",
    "            else: cols.append(1.*multiply)\n",
    "        metrix.append(cols)\n",
    "    return metrix*metrixShape\n",
    "\n",
    "def ones1D(num, multiply=1.0, type=float):\n",
    "    met = []\n",
    "    for i in range(num):\n",
    "        if type == int:\n",
    "            met.append(int(1.*multiply))\n",
    "        else: met.append(1.*multiply)\n",
    "    return met\n",
    "\n",
    "def dot1D_2D(A, B):\n",
    "    return [sum(i*j for i,j in zip(row, B)) for row in A]"
   ]
  },
  {
   "cell_type": "code",
   "execution_count": 7,
   "id": "23148e8f",
   "metadata": {},
   "outputs": [],
   "source": [
    "def train_multivariate_model(X, y, epoch, lr=0.001):\n",
    "    m = shape(X)[0] \n",
    "    one_met = ones((m, 1))\n",
    "\n",
    "    X = concatenate(one_met, X, axis=1)\n",
    "    n = shape(X)[1]\n",
    "    theta = ones1D(n)\n",
    "    hypothesis = dot1D_2D(X, theta)\n",
    "    cost = ones1D(epoch)\n",
    "    for i in range(0, epoch):\n",
    "        # print(shape(X), theta[0])\n",
    "        theta[0]=theta[0]-(lr/shape(X)[0])*sum([h-y_ for h, y_ in zip(hypothesis, y)])\n",
    "        for j in range(1, n):\n",
    "            # print('j: ', theta[j], X)\n",
    "            theta[j]=theta[j]-(lr/shape(X)[0])*sum([(h-y_)*X[i][j] for h, y_ in zip(hypothesis, y)])\n",
    "            # print('j af.: ', j)\n",
    "        hypothesis = dot1D_2D(X, theta)\n",
    "        cost[i]=1/(2*m)*sum([(h-y_)**2 for h, y_ in zip(hypothesis, y)])\n",
    "    \n",
    "    return cost, theta"
   ]
  },
  {
   "cell_type": "code",
   "execution_count": 6,
   "id": "ffda55cb",
   "metadata": {},
   "outputs": [],
   "source": [
    "class LinearRegression():\n",
    "\n",
    "    def linear_prediction(self, x_i, w_i, b):\n",
    "        return w_i*x_i + b\n",
    "\n",
    "    def multivariate_prediction(self, X, W):\n",
    "        wx = 0.0\n",
    "        W_ = W[1:]\n",
    "        for i in range(len(X)):\n",
    "            wx += X[i]*W_[i]\n",
    "        return wx"
   ]
  },
  {
   "cell_type": "code",
   "execution_count": 11,
   "id": "4b7b8971",
   "metadata": {},
   "outputs": [
    {
     "name": "stdout",
     "output_type": "stream",
     "text": [
      "[0.8553742447834787, 0.9464621109465955, 0.9844042304532041, 0.9452978042026191, 0.9589162696694389]\n"
     ]
    },
    {
     "data": {
      "image/png": "[encoded data removed]",
      "text/plain": [
       "<Figure size 640x480 with 1 Axes>"
      ]
     },
     "metadata": {},
     "output_type": "display_data"
    }
   ],
   "source": [
    "# training model...\n",
    "import matplotlib.pyplot as plt\n",
    "preprocessed_file = 'processed_datasetMP.csv' # 'MP_dataset_100_point.csv' 'A:/BIOINFORMAICS/ML-Training-main/11-Linear-Regression/USA_Housing.csv'\n",
    "\n",
    "X = datasetLoader(preprocessed_file, cols=4)\n",
    "Y = load_csv(preprocessed_file).dataset(column=5)\n",
    "\n",
    "epoch = 100\n",
    "training = train_multivariate_model(X[:epoch], Y[:epoch], epoch, lr=0.001)  # bais and weight has been initialize with 1.0\n",
    "\n",
    "iteration = [i for i in range(epoch)]\n",
    "\n",
    "plt.plot(iteration, training[0], 'r')\n",
    "plt.title('Multivariable weight optimization')\n",
    "plt.xlabel('iteration')\n",
    "plt.ylabel('loss')\n",
    "\n",
    "print(training[1])\n",
    "# for i in training[0]:\n",
    "#    print(i)\n",
    "\n",
    "Xnew1 = [0.5,0,0.6,0.204527913]\n",
    "Xnew2 = [0.285714286,0.153846154,0.228571429,0.262746687]\n",
    "# LinearRegression().multivariate_prediction(Xnew1, training[1])"
   ]
  },
  {
   "cell_type": "code",
   "execution_count": 9,
   "id": "e2b86fa6",
   "metadata": {},
   "outputs": [
    {
     "data": {
      "text/plain": [
       "<matplotlib.collections.PathCollection at 0x1a4da8811b0>"
      ]
     },
     "execution_count": 9,
     "metadata": {},
     "output_type": "execute_result"
    },
    {
     "data": {
      "image/png": "[encoded data removed]",
      "text/plain": [
       "<Figure size 640x480 with 1 Axes>"
      ]
     },
     "metadata": {},
     "output_type": "display_data"
    }
   ],
   "source": [
    "plt.scatter(iteration, Y, c='c')"
   ]
  }
 ],
 "metadata": {
  "kernelspec": {
   "display_name": "Python 3 (ipykernel)",
   "language": "python",
   "name": "python3"
  },
  "language_info": {
   "codemirror_mode": {
    "name": "ipython",
    "version": 3
   },
   "file_extension": ".py",
   "mimetype": "text/x-python",
   "name": "python",
   "nbconvert_exporter": "python",
   "pygments_lexer": "ipython3",
   "version": "3.10.4 (tags/v3.10.4:9d38120, Mar 23 2022, 23:13:41) [MSC v.1929 64 bit (AMD64)]"
  },
  "vscode": {
   "interpreter": {
    "hash": "0e84a370a1b1f73c8b8d747be20ba5eab4d2c8bec9952ef0b89c9bb920892073"
   }
  }
 },
 "nbformat": 4,
 "nbformat_minor": 5
}
