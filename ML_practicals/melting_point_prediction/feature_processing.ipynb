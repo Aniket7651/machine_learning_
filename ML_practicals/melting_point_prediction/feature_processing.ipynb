{
 "cells": [
  {
   "cell_type": "code",
   "execution_count": 3,
   "id": "5b4555df",
   "metadata": {},
   "outputs": [],
   "source": [
    "import csv\n",
    "import os\n",
    "import requests\n",
    "from bs4 import BeautifulSoup"
   ]
  },
  {
   "cell_type": "code",
   "execution_count": 2,
   "id": "da1be163",
   "metadata": {
    "collapsed": true
   },
   "outputs": [
    {
     "data": {
      "text/plain": [
       "['DB00276',\n",
       " 'DB00277',\n",
       " 'DB00279',\n",
       " 'DB00280',\n",
       " 'DB00281',\n",
       " 'DB00282',\n",
       " 'DB00283',\n",
       " 'DB00285',\n",
       " 'DB00286',\n",
       " 'DB00289',\n",
       " 'DB00290',\n",
       " 'DB00291',\n",
       " 'DB00292',\n",
       " 'DB00293',\n",
       " 'DB00294',\n",
       " 'DB00295',\n",
       " 'DB00297',\n",
       " 'DB00299',\n",
       " 'DB00300',\n",
       " 'DB00302',\n",
       " 'DB00304',\n",
       " 'DB00305',\n",
       " 'DB00306',\n",
       " 'DB00309',\n",
       " 'DB00310',\n",
       " 'DB00311',\n",
       " 'DB00312',\n",
       " 'DB00315',\n",
       " 'DB00316',\n",
       " 'DB00318',\n",
       " 'DB00321',\n",
       " 'DB00322',\n",
       " 'DB00324',\n",
       " 'DB00327',\n",
       " 'DB00328',\n",
       " 'DB00330',\n",
       " 'DB00331',\n",
       " 'DB00332',\n",
       " 'DB00333',\n",
       " 'DB00334',\n",
       " 'DB00335',\n",
       " 'DB00336',\n",
       " 'DB00338',\n",
       " 'DB00339',\n",
       " 'DB00340',\n",
       " 'DB00341',\n",
       " 'DB00342',\n",
       " 'DB00343',\n",
       " 'DB00344',\n",
       " 'DB00345',\n",
       " 'DB00346',\n",
       " 'DB00347',\n",
       " 'DB00349',\n",
       " 'DB00350',\n",
       " 'DB00351',\n",
       " 'DB00352',\n",
       " 'DB00353',\n",
       " 'DB00356',\n",
       " 'DB00357',\n",
       " 'DB00358',\n",
       " 'DB00359',\n",
       " 'DB00360',\n",
       " 'DB00361',\n",
       " 'DB00363',\n",
       " 'DB00364',\n",
       " 'DB00366',\n",
       " 'DB00367',\n",
       " 'DB00368',\n",
       " 'DB00369',\n",
       " 'DB00370',\n",
       " 'DB00371',\n",
       " 'DB00372',\n",
       " 'DB00373',\n",
       " 'DB00376',\n",
       " 'DB00378',\n",
       " 'DB00379',\n",
       " 'DB00380',\n",
       " 'DB00381',\n",
       " 'DB00382',\n",
       " 'DB00384',\n",
       " 'DB00385',\n",
       " 'DB00387',\n",
       " 'DB00388',\n",
       " 'DB00389',\n",
       " 'DB00390',\n",
       " 'DB00391',\n",
       " 'DB00392',\n",
       " 'DB00393',\n",
       " 'DB00394',\n",
       " 'DB00395',\n",
       " 'DB00396',\n",
       " 'DB00397',\n",
       " 'DB00400',\n",
       " 'DB00402',\n",
       " 'DB00404',\n",
       " 'DB00405',\n",
       " 'DB00406',\n",
       " 'DB00408',\n",
       " 'DB00410',\n",
       " 'DB00411']"
      ]
     },
     "execution_count": 2,
     "metadata": {},
     "output_type": "execute_result"
    }
   ],
   "source": [
    "drugID = []\n",
    "with open(\"raw_data/rough.csv\", 'r') as csvf:\n",
    "    for i in csv.reader(csvf):\n",
    "        drugID.append(i[0])\n",
    "drugID[200:300]"
   ]
  },
  {
   "cell_type": "code",
   "execution_count": 3,
   "id": "f2b6cc18",
   "metadata": {},
   "outputs": [],
   "source": [
    "class drug_info():\n",
    "\n",
    "    def __init__(self, drugBank_ID, feature_='html'):\n",
    "        self.id = drugBank_ID\n",
    "        self.feature = feature_\n",
    "\n",
    "    def drug_detail(self):\n",
    "        try:\n",
    "            url = 'https://go.drugbank.com/drugs/%s' %self.id\n",
    "            soup = BeautifulSoup(requests.get(url).text, self.feature)\n",
    "            (key_lis, value_lis) = ([], [])\n",
    "            for dt, dd in zip(soup.select('.card-content dl dt'), soup.select('.card-content dl dd')):\n",
    "                key_lis.append(dt.string)\n",
    "                value_lis.append(dd.string)\n",
    "    \n",
    "            data = {key_lis[i]: value_lis[i] for i in range(len(key_lis))}\n",
    "            return data\n",
    "        except:\n",
    "            return 'connection error!'\n",
    "    \n",
    "    def smile(self):\n",
    "        try:\n",
    "            data = self.drug_detail()\n",
    "            return data['SMILES']  # type: ignore\n",
    "        except:\n",
    "            pass\n",
    "        \n",
    "    def mol_Wight(self):\n",
    "        try:\n",
    "            data = self.drug_detail()\n",
    "            return data['Molecular Weight']   # type: ignore\n",
    "        except:\n",
    "            pass"
   ]
  },
  {
   "cell_type": "code",
   "execution_count": 9,
   "id": "2cf83bc4",
   "metadata": {},
   "outputs": [],
   "source": [
    "smiles = []\n",
    "for did in drugID[400:500]:\n",
    "    smiles.append(drug_info(did).smile())\n",
    "# print(drug_info('DB00160').drug_detail())\n"
   ]
  },
  {
   "cell_type": "code",
   "execution_count": 10,
   "id": "87c7bae6",
   "metadata": {},
   "outputs": [],
   "source": [
    "smiles\n",
    "with open('smile3.txt', 'a') as wt:\n",
    "    for line in smiles:\n",
    "        if None == line:\n",
    "            wt.write('None')\n",
    "            wt.write('\\n')\n",
    "        else: \n",
    "            wt.write(line)\n",
    "            wt.write('\\n')"
   ]
  },
  {
   "cell_type": "code",
   "execution_count": 11,
   "id": "c51f3273",
   "metadata": {},
   "outputs": [
    {
     "name": "stdout",
     "output_type": "stream",
     "text": [
      "['141477.255 Da', '60025.025 Da', '55009.62 Da', '62579.99 Da', '141477.255 Da', '46280.325 Da', '55768.94 Da', '72313.47 Da', '72313.47 Da', '42631.525 Da', '52561.93 Da', '74144.105 Da', '54083.325 Da', '64608.53 Da', '43778.755 Da', '141477.255 Da', '57342.67 Da', '40912.485 Da', '141477.255 Da', '90568.415 Da', '43778.755 Da', '76689.12 Da', '102582.475 Da', '57342.67 Da', '69365.94 Da', '61815.78 Da', '57342.67 Da', '141477.255 Da', '141477.255 Da', '61153.345 Da', '141477.255 Da', '46324.12 Da', '45140.49 Da', '69365.94 Da', '146405.83 Da', '57342.67 Da', '65083.915 Da', '62154.48 Da', '141477.255 Da', '141477.255 Da', '146405.83 Da', '146422.99 Da', '141477.255 Da', '146422.99 Da', None, '141477.255 Da', '146405.83 Da', '141477.255 Da', '141477.255 Da', '60025.025 Da', '141477.255 Da', '55930.545 Da', '141477.255 Da', '59590.91 Da', '141477.255 Da', '149525.33 Da', '57342.67 Da', '55768.94 Da', '55930.545 Da', '141477.255 Da', '55627.365 Da', '141477.255 Da', '57342.67 Da', '61279.485 Da', '133993.12 Da', '69365.94 Da', '57342.67 Da', '38570.415 Da', '61815.78 Da', '70324.165 Da', '51023.69 Da', '50618.91 Da', '141477.255 Da', '69365.94 Da', '57342.67 Da', '55768.94 Da', '183265.825 Da', '141477.255 Da', '141477.255 Da', '58293.76 Da', '174383.88 Da', '53048.65 Da', '58293.76 Da', '57882.48 Da', '76447.99 Da', '72313.47 Da', '68417.575 Da', '57342.67 Da', '77402.175 Da', '55930.545 Da', '77402.175 Da', '59681.27 Da', '57342.67 Da', '55824.275 Da', '69365.94 Da', '55783.61 Da', '61153.345 Da', '49292.765 Da', '104883.78 Da', '67795.525 Da']\n"
     ]
    }
   ],
   "source": [
    "mol_weight = []\n",
    "for idrug in drugID[200:300]:\n",
    "    mol_weight.append(drug_info(idrug).mol_Wight())\n",
    "print(mol_weight)"
   ]
  },
  {
   "cell_type": "code",
   "execution_count": 5,
   "id": "a76dbc1a",
   "metadata": {},
   "outputs": [
    {
     "data": {
      "text/plain": [
       "55492.07"
      ]
     },
     "execution_count": 5,
     "metadata": {},
     "output_type": "execute_result"
    }
   ],
   "source": [
    "# type conversion\n",
    "def typefloat(StrType):\n",
    "    try:\n",
    "        return float(StrType)\n",
    "    except:\n",
    "        pass\n",
    "typefloat('55492.07')"
   ]
  },
  {
   "cell_type": "code",
   "execution_count": 13,
   "id": "8fc3f022",
   "metadata": {},
   "outputs": [
    {
     "data": {
      "text/plain": [
       "[[12, 0, 21, 141477.255],\n",
       " [4, 0, 7, 60025.025],\n",
       " [7, 2, 15, 55009.62],\n",
       " [7, 0, 21, 62579.99],\n",
       " [4, 0, 14, 141477.255],\n",
       " [2, 0, 3, 46280.325],\n",
       " [6, 3, 22, 55768.94],\n",
       " [3, 0, 17, 72313.47],\n",
       " [12, 0, 21, 72313.47],\n",
       " [4, 0, 7, 42631.525],\n",
       " [7, 2, 15, 52561.93],\n",
       " [7, 0, 21, 74144.105],\n",
       " [4, 0, 14, 54083.325],\n",
       " [2, 0, 3, 64608.53],\n",
       " [6, 3, 22, 43778.755],\n",
       " [3, 0, 17, 141477.255],\n",
       " [0, 0, 0, 57342.67],\n",
       " [6, 2, 17, 40912.485],\n",
       " [17, 13, 55, 141477.255],\n",
       " [4, 0, 16, 90568.415],\n",
       " [6, 1, 14, 43778.755],\n",
       " [10, 2, 21, 76689.12],\n",
       " [3, 11, 22, 102582.475],\n",
       " [4, 8, 17, 57342.67],\n",
       " [4, 0, 18, 69365.94],\n",
       " [4, 0, 10, 61815.78],\n",
       " [7, 2, 19, 57342.67],\n",
       " [1, 3, 8, 141477.255],\n",
       " [2, 11, 22, 141477.255],\n",
       " [5, 7, 15, 61153.345],\n",
       " [4, 0, 11, 141477.255],\n",
       " [10, 13, 43, 46324.12],\n",
       " [9, 0, 15, 45140.49],\n",
       " [6, 0, 9, 69365.94],\n",
       " [3, 0, 11, 146405.83],\n",
       " [5, 1, 16, 57342.67],\n",
       " [4, 0, 8, 65083.915],\n",
       " [4, 7, 18, 62154.48],\n",
       " [7, 0, 20, 141477.255],\n",
       " [3, 4, 9, 141477.255],\n",
       " [4, 12, 22, 146405.83],\n",
       " [4, 6, 17, 146422.99],\n",
       " [9, 0, 20, 141477.255],\n",
       " [0, 4, 10, 146422.99],\n",
       " [2, 0, 4, None],\n",
       " [4, 4, 20, 141477.255],\n",
       " [7, 0, 21, 146405.83],\n",
       " [6, 0, 17, 141477.255],\n",
       " [4, 0, 14, 141477.255],\n",
       " [5, 0, 6, 60025.025],\n",
       " [8, 0, 17, 141477.255],\n",
       " [4, 0, 5, 55930.545],\n",
       " [6, 0, 20, 141477.255],\n",
       " [7, 0, 22, 59590.91],\n",
       " [9, 0, 32, 141477.255],\n",
       " [8, 4, 22, 149525.33],\n",
       " [7, 0, 19, 57342.67],\n",
       " [5, 0, 9, 55768.94],\n",
       " [6, 0, 19, 55930.545],\n",
       " [2, 0, 6, 141477.255],\n",
       " [8, 0, 17, 55627.365],\n",
       " [3, 0, 9, 141477.255],\n",
       " [5, 10, 24, 57342.67],\n",
       " [4, 0, 5, 61279.485],\n",
       " [6, 5, 20, 133993.12],\n",
       " [4, 0, 8, 69365.94],\n",
       " [5, 0, 13, 57342.67],\n",
       " [5, 0, 17, 38570.415],\n",
       " [8, 0, 10, 61815.78],\n",
       " [3, 5, 9, 70324.165],\n",
       " [12, 13, 45, 51023.69],\n",
       " [7, 0, 19, 50618.91],\n",
       " [16, 13, 12, 141477.255],\n",
       " [6, 0, 17, 69365.94],\n",
       " [2, 11, 21, 57342.67],\n",
       " [3, 1, 8, 55768.94],\n",
       " [4, 2, 8, 183265.825],\n",
       " [6, 0, 17, 141477.255],\n",
       " [2, 0, 9, 141477.255],\n",
       " [6, 0, 22, 58293.76],\n",
       " [2, 1, 13, 174383.88],\n",
       " [3, 0, 20, 53048.65],\n",
       " [4, 10, 21, 58293.76],\n",
       " [3, 0, 11, 57882.48],\n",
       " [4, 2, 11, 76447.99],\n",
       " [7, 0, 21, 72313.47],\n",
       " [5, 0, 13, 68417.575],\n",
       " [8, 0, 12, 57342.67],\n",
       " [11, 8, 34, 77402.175],\n",
       " [3, 0, 19, 55930.545],\n",
       " [3, 1, 9, 77402.175],\n",
       " [3, 0, 7, 59681.27],\n",
       " [2, 27, 41, 57342.67],\n",
       " [6, 0, 15, 55824.275],\n",
       " [6, 0, 19, 69365.94],\n",
       " [8, 0, 21, 55783.61],\n",
       " [6, 12, 29, 61153.345],\n",
       " [2, 0, 12, 49292.765],\n",
       " [3, 10, 21, 104883.78],\n",
       " [3, 0, 9, 67795.525]]"
      ]
     },
     "execution_count": 13,
     "metadata": {},
     "output_type": "execute_result"
    }
   ],
   "source": [
    "smiles = []\n",
    "with open('smile.txt', 'r') as file:\n",
    "    for line in file.readlines():\n",
    "        smiles.append(line)\n",
    "\n",
    "# ############# find and count Data ############### #\n",
    "\n",
    "count_d_bond_t_bond_C_no_molw = []\n",
    "for smile, molw in zip(smiles, mol_weight):\n",
    "    count_ = []\n",
    "    for character in ['=', '@', 'C']:  # count each double triple bond and number of carbons respectively\n",
    "        count_.append(smile[:-1].count(character))  # smile[:-1] is use for remove or drop new lines\n",
    "    try:\n",
    "        count_.append(typefloat(molw[:-3]))\n",
    "    except TypeError:\n",
    "        count_.append(None)\n",
    "    count_d_bond_t_bond_C_no_molw.append(count_)\n",
    "count_d_bond_t_bond_C_no_molw"
   ]
  },
  {
   "cell_type": "code",
   "execution_count": null,
   "id": "03a729e9",
   "metadata": {},
   "outputs": [],
   "source": [
    "with open('MP_dataset_100_point.csv', 'w', newline='') as writeCSV:\n",
    "    writer = csv.writer(writeCSV)\n",
    "    writer.writerow(['double bonds', 'triple bonds', 'carbon numbers', 'molecular weight'])\n",
    "    writer.writerows(count_d_bond_t_bond_C_no_molw)"
   ]
  },
  {
   "cell_type": "code",
   "execution_count": 1,
   "id": "891fdcac",
   "metadata": {},
   "outputs": [
    {
     "data": {
      "text/plain": [
       "[-0.577800924185601,\n",
       " -0.5774956134341787,\n",
       " -0.5767541444664385,\n",
       " 1.732050682086218]"
      ]
     },
     "execution_count": 1,
     "metadata": {},
     "output_type": "execute_result"
    }
   ],
   "source": [
    "class statistics():\n",
    "    \"\"\"\n",
    "    statistics class function is use for the performing basic task about, finding mean or the avg. value of set, variance,\n",
    "    median and standard deviation.\n",
    "    \"\"\"\n",
    "    def __init__(self, x_set):\n",
    "        self.x = x_set\n",
    "        self.N = len(x_set)\n",
    "\n",
    "    def mean(self):\n",
    "        summation = 0.0\n",
    "        for element in self.x:\n",
    "            summation += element\n",
    "        return summation/float(self.N)\n",
    "    \n",
    "    def standard_dev(self):\n",
    "        mean = self.mean()\n",
    "        sumation = 0.0\n",
    "        for i in self.x:\n",
    "            sumation += (i - mean)**2\n",
    "        return (sumation/self.N)**0.5\n",
    "\n",
    "\n",
    "class pre_processing():\n",
    "    '''pre processing class is use for feature engineering, creating the features and labels, \n",
    "    the problem of converting raw data to a dataset which can be\n",
    "    read by machine is called feature engineering.'''\n",
    "\n",
    "    def __init__(self, x_i):\n",
    "        self.x = x_i\n",
    "\n",
    "    def standardization(self):\n",
    "        standardize = []\n",
    "        mean = statistics(self.x).mean()\n",
    "        dev = statistics(self.x).standard_dev()\n",
    "        for j in self.x:\n",
    "            standardize.append((j - mean)/dev)\n",
    "        return standardize\n",
    "\n",
    "    def normalization(self):\n",
    "        normalize = []\n",
    "        (min_j, max_j) = (min(self.x), max(self.x))\n",
    "        for j in self.x:\n",
    "            normalize.append((j - min_j)/(max_j - min_j))\n",
    "        return normalize\n",
    "\n",
    "    def imputation(self):\n",
    "        return (1/float(len(self.x)))*sum(self.x)\n",
    "\n",
    "pre_processing([4.00, 11.00, 28.00, 52963.03]).standardization()"
   ]
  },
  {
   "cell_type": "code",
   "execution_count": 6,
   "id": "23d5a7d2",
   "metadata": {},
   "outputs": [
    {
     "name": "stdout",
     "output_type": "stream",
     "text": [
      "[None, 12.0, 4.0, 7.0, 7.0, 4.0, 2.0, 6.0, 3.0, 12.0, 4.0, 7.0, 7.0, 4.0, 2.0, 6.0, 3.0, 0.0, 6.0, 17.0, 4.0, 6.0, 10.0, 3.0, 4.0, 4.0, 4.0, 7.0, 1.0, 2.0, 5.0, 4.0, 10.0, 9.0, 6.0, 3.0, 5.0, 4.0, 4.0, 7.0, 3.0, 4.0, 4.0, 9.0, 0.0, 2.0, 4.0, 7.0, 6.0, 4.0, 5.0, 8.0, 4.0, 6.0, 7.0, 9.0, 8.0, 7.0, 5.0, 6.0, 2.0, 8.0, 3.0, 5.0, 4.0, 6.0, 4.0, 5.0, 5.0, 8.0, 3.0, 12.0, 7.0, 16.0, 6.0, 2.0, 3.0, 4.0, 6.0, 2.0, 6.0, 2.0, 3.0, 4.0, 3.0, 4.0, 7.0, 5.0, 8.0, 11.0, 3.0, 3.0, 3.0, 2.0, 6.0, 6.0, 8.0, 6.0, 2.0, 3.0, 3.0] [None, 0.0, 0.0, 2.0, 0.0, 0.0, 0.0, 3.0, 0.0, 0.0, 0.0, 2.0, 0.0, 0.0, 0.0, 3.0, 0.0, 0.0, 2.0, 13.0, 0.0, 1.0, 2.0, 11.0, 8.0, 0.0, 0.0, 2.0, 3.0, 11.0, 7.0, 0.0, 13.0, 0.0, 0.0, 0.0, 1.0, 0.0, 7.0, 0.0, 4.0, 12.0, 6.0, 0.0, 4.0, 0.0, 4.0, 0.0, 0.0, 0.0, 0.0, 0.0, 0.0, 0.0, 0.0, 0.0, 4.0, 0.0, 0.0, 0.0, 0.0, 0.0, 0.0, 10.0, 0.0, 5.0, 0.0, 0.0, 0.0, 0.0, 5.0, 13.0, 0.0, 13.0, 0.0, 11.0, 1.0, 2.0, 0.0, 0.0, 0.0, 1.0, 0.0, 10.0, 0.0, 2.0, 0.0, 0.0, 0.0, 8.0, 0.0, 1.0, 0.0, 27.0, 0.0, 0.0, 0.0, 12.0, 0.0, 10.0, 0.0] [None, 21.0, 7.0, 15.0, 21.0, 14.0, 3.0, 22.0, 17.0, 21.0, 7.0, 15.0, 21.0, 14.0, 3.0, 22.0, 17.0, 0.0, 17.0, 55.0, 16.0, 14.0, 21.0, 22.0, 17.0, 18.0, 10.0, 19.0, 8.0, 22.0, 15.0, 11.0, 43.0, 15.0, 9.0, 11.0, 16.0, 8.0, 18.0, 20.0, 9.0, 22.0, 17.0, 20.0, 10.0, 4.0, 20.0, 21.0, 17.0, 14.0, 6.0, 17.0, 5.0, 20.0, 22.0, 32.0, 22.0, 19.0, 9.0, 19.0, 6.0, 17.0, 9.0, 24.0, 5.0, 20.0, 8.0, 13.0, 17.0, 10.0, 9.0, 45.0, 19.0, 12.0, 17.0, 21.0, 8.0, 8.0, 17.0, 9.0, 22.0, 13.0, 20.0, 21.0, 11.0, 11.0, 21.0, 13.0, 12.0, 34.0, 19.0, 9.0, 7.0, 41.0, 15.0, 19.0, 21.0, 29.0, 12.0, 21.0, 9.0] [None, 141477.255, 60025.025, 55009.62, 62579.99, 141477.255, 46280.325, 55768.94, 72313.47, 72313.47, 42631.525, 52561.93, 74144.105, 54083.325, 64608.53, 43778.755, 141477.255, 57342.67, 40912.485, 141477.255, 90568.415, 43778.755, 76689.12, 102582.475, 57342.67, 69365.94, 61815.78, 57342.67, 141477.255, 141477.255, 61153.345, 141477.255, 46324.12, 45140.49, 69365.94, 146405.83, 57342.67, 65083.915, 62154.48, 141477.255, 141477.255, 146405.83, 146422.99, 141477.255, 146422.99, None, 141477.255, 146405.83, 141477.255, 141477.255, 60025.025, 141477.255, 55930.545, 141477.255, 59590.91, 141477.255, 149525.33, 57342.67, 55768.94, 55930.545, 141477.255, 55627.365, 141477.255, 57342.67, 61279.485, 133993.12, 69365.94, 57342.67, 38570.415, 61815.78, 70324.165, 51023.69, 50618.91, 141477.255, 69365.94, 57342.67, 55768.94, 183265.825, 141477.255, 141477.255, 58293.76, 174383.88, 53048.65, 58293.76, 57882.48, 76447.99, 72313.47, 68417.575, 57342.67, 77402.175, 55930.545, 77402.175, 59681.27, 57342.67, 55824.275, 69365.94, 55783.61, 61153.345, 49292.765, 104883.78, 67795.525]\n"
     ]
    }
   ],
   "source": [
    "(data_row1, data_row2, data_row3, data_row4) = ([], [], [], [])\n",
    "with open('MP_dataset_100_point.csv', 'r') as rdfile:\n",
    "    for line in csv.reader(rdfile):\n",
    "        data_row1.append(typefloat(line[0]))\n",
    "        data_row2.append(typefloat(line[1]))\n",
    "        data_row3.append(typefloat(line[2]))\n",
    "        data_row4.append(typefloat(line[3]))\n",
    "\n",
    "# pre_processing(data_row1[1:]).normalization()\n",
    "print(data_row1, data_row2, data_row3, data_row4)"
   ]
  },
  {
   "cell_type": "code",
   "execution_count": 7,
   "id": "5aaa9422",
   "metadata": {},
   "outputs": [
    {
     "data": {
      "text/plain": [
       "[['a', 'e', 'i', 'm', 'q'],\n",
       " ['b', 'f', 'j', 'n', 'r'],\n",
       " ['c', 'g', 'k', 'o', 's'],\n",
       " ['d', 'h', 'l', 'p', 't'],\n",
       " [2, 3, 4, 5, 6],\n",
       " [4, 3, 2, 1, 0]]"
      ]
     },
     "execution_count": 7,
     "metadata": {},
     "output_type": "execute_result"
    }
   ],
   "source": [
    "met = [['a','b','c','d', 2, 4],\n",
    "       ['e','f','g','h', 3, 3],\n",
    "       ['i','j','k','l', 4, 2],\n",
    "       ['m','n','o','p', 5, 1],\n",
    "       ['q','r','s','t', 6, 0]]\n",
    "\n",
    "def transform(mtrix):\n",
    "    transf = []\n",
    "    for i in range(len(mtrix[0])):\n",
    "        lisr = []\n",
    "        for j in range(len(mtrix)):\n",
    "            lisr.append(mtrix[j][i])\n",
    "        transf.append(lisr)\n",
    "    return transf\n",
    "\n",
    "transform(met)"
   ]
  },
  {
   "cell_type": "code",
   "execution_count": 14,
   "id": "b1a48746",
   "metadata": {},
   "outputs": [
    {
     "name": "stdout",
     "output_type": "stream",
     "text": [
      "[None, 12.0, 4.0, 7.0, 7.0, 4.0, 2.0, 6.0, 3.0, 12.0, 4.0, 7.0, 7.0, 4.0, 2.0, 6.0, 3.0, 0.0, 6.0, 17.0, 4.0, 6.0, 10.0, 3.0, 4.0, 4.0, 4.0, 7.0, 1.0, 2.0, 5.0, 4.0, 10.0, 9.0, 6.0, 3.0, 5.0, 4.0, 4.0, 7.0, 3.0, 4.0, 4.0, 9.0, 0.0, 2.0, 4.0, 7.0, 6.0, 4.0, 5.0, 8.0, 4.0, 6.0, 7.0, 9.0, 8.0, 7.0, 5.0, 6.0, 2.0, 8.0, 3.0, 5.0, 4.0, 6.0, 4.0, 5.0, 5.0, 8.0, 3.0, 12.0, 7.0, 16.0, 6.0, 2.0, 3.0, 4.0, 6.0, 2.0, 6.0, 2.0, 3.0, 4.0, 3.0, 4.0, 7.0, 5.0, 8.0, 11.0, 3.0, 3.0, 3.0, 2.0, 6.0, 6.0, 8.0, 6.0, 2.0, 3.0, 3.0]\n",
      "[None, 0.0, 0.0, 2.0, 0.0, 0.0, 0.0, 3.0, 0.0, 0.0, 0.0, 2.0, 0.0, 0.0, 0.0, 3.0, 0.0, 0.0, 2.0, 13.0, 0.0, 1.0, 2.0, 11.0, 8.0, 0.0, 0.0, 2.0, 3.0, 11.0, 7.0, 0.0, 13.0, 0.0, 0.0, 0.0, 1.0, 0.0, 7.0, 0.0, 4.0, 12.0, 6.0, 0.0, 4.0, 0.0, 4.0, 0.0, 0.0, 0.0, 0.0, 0.0, 0.0, 0.0, 0.0, 0.0, 4.0, 0.0, 0.0, 0.0, 0.0, 0.0, 0.0, 10.0, 0.0, 5.0, 0.0, 0.0, 0.0, 0.0, 5.0, 13.0, 0.0, 13.0, 0.0, 11.0, 1.0, 2.0, 0.0, 0.0, 0.0, 1.0, 0.0, 10.0, 0.0, 2.0, 0.0, 0.0, 0.0, 8.0, 0.0, 1.0, 0.0, 27.0, 0.0, 0.0, 0.0, 12.0, 0.0, 10.0, 0.0]\n",
      "[None, 21.0, 7.0, 15.0, 21.0, 14.0, 3.0, 22.0, 17.0, 21.0, 7.0, 15.0, 21.0, 14.0, 3.0, 22.0, 17.0, 0.0, 17.0, 55.0, 16.0, 14.0, 21.0, 22.0, 17.0, 18.0, 10.0, 19.0, 8.0, 22.0, 15.0, 11.0, 43.0, 15.0, 9.0, 11.0, 16.0, 8.0, 18.0, 20.0, 9.0, 22.0, 17.0, 20.0, 10.0, 4.0, 20.0, 21.0, 17.0, 14.0, 6.0, 17.0, 5.0, 20.0, 22.0, 32.0, 22.0, 19.0, 9.0, 19.0, 6.0, 17.0, 9.0, 24.0, 5.0, 20.0, 8.0, 13.0, 17.0, 10.0, 9.0, 45.0, 19.0, 12.0, 17.0, 21.0, 8.0, 8.0, 17.0, 9.0, 22.0, 13.0, 20.0, 21.0, 11.0, 11.0, 21.0, 13.0, 12.0, 34.0, 19.0, 9.0, 7.0, 41.0, 15.0, 19.0, 21.0, 29.0, 12.0, 21.0, 9.0]\n",
      "[None, 141477.255, 60025.025, 55009.62, 62579.99, 141477.255, 46280.325, 55768.94, 72313.47, 72313.47, 42631.525, 52561.93, 74144.105, 54083.325, 64608.53, 43778.755, 141477.255, 57342.67, 40912.485, 141477.255, 90568.415, 43778.755, 76689.12, 102582.475, 57342.67, 69365.94, 61815.78, 57342.67, 141477.255, 141477.255, 61153.345, 141477.255, 46324.12, 45140.49, 69365.94, 146405.83, 57342.67, 65083.915, 62154.48, 141477.255, 141477.255, 146405.83, 146422.99, 141477.255, 146422.99, None, 141477.255, 146405.83, 141477.255, 141477.255, 60025.025, 141477.255, 55930.545, 141477.255, 59590.91, 141477.255, 149525.33, 57342.67, 55768.94, 55930.545, 141477.255, 55627.365, 141477.255, 57342.67, 61279.485, 133993.12, 69365.94, 57342.67, 38570.415, 61815.78, 70324.165, 51023.69, 50618.91, 141477.255, 69365.94, 57342.67, 55768.94, 183265.825, 141477.255, 141477.255, 58293.76, 174383.88, 53048.65, 58293.76, 57882.48, 76447.99, 72313.47, 68417.575, 57342.67, 77402.175, 55930.545, 77402.175, 59681.27, 57342.67, 55824.275, 69365.94, 55783.61, 61153.345, 49292.765, 104883.78, 67795.525]\n"
     ]
    },
    {
     "ename": "TypeError",
     "evalue": "'<' not supported between instances of 'NoneType' and 'float'",
     "output_type": "error",
     "traceback": [
      "\u001b[1;31m---------------------------------------------------------------------------\u001b[0m",
      "\u001b[1;31mTypeError\u001b[0m                                 Traceback (most recent call last)",
      "\u001b[1;32ma:\\PROJECTS\\Machine Learning\\ML_practicals\\melting_point_prediction\\feature_processing.ipynb Cell 13\u001b[0m in \u001b[0;36m8\n\u001b[0;32m      <a href='vscode-notebook-cell:/a%3A/PROJECTS/Machine%20Learning/ML_practicals/melting_point_prediction/feature_processing.ipynb#X15sZmlsZQ%3D%3D?line=5'>6</a>\u001b[0m     \u001b[39mif\u001b[39;00m \u001b[39mNone\u001b[39;00m \u001b[39m==\u001b[39m row:\n\u001b[0;32m      <a href='vscode-notebook-cell:/a%3A/PROJECTS/Machine%20Learning/ML_practicals/melting_point_prediction/feature_processing.ipynb#X15sZmlsZQ%3D%3D?line=6'>7</a>\u001b[0m         preprocess\u001b[39m.\u001b[39mappend(\u001b[39m'\u001b[39m\u001b[39mNone\u001b[39m\u001b[39m'\u001b[39m)\n\u001b[1;32m----> <a href='vscode-notebook-cell:/a%3A/PROJECTS/Machine%20Learning/ML_practicals/melting_point_prediction/feature_processing.ipynb#X15sZmlsZQ%3D%3D?line=7'>8</a>\u001b[0m     preprocess\u001b[39m.\u001b[39mappend(pre_processing(row[\u001b[39m1\u001b[39;49m:])\u001b[39m.\u001b[39;49mnormalization())\n\u001b[0;32m     <a href='vscode-notebook-cell:/a%3A/PROJECTS/Machine%20Learning/ML_practicals/melting_point_prediction/feature_processing.ipynb#X15sZmlsZQ%3D%3D?line=9'>10</a>\u001b[0m preprocessed_dataset \u001b[39m=\u001b[39m transform(preprocess)\n\u001b[0;32m     <a href='vscode-notebook-cell:/a%3A/PROJECTS/Machine%20Learning/ML_practicals/melting_point_prediction/feature_processing.ipynb#X15sZmlsZQ%3D%3D?line=11'>12</a>\u001b[0m \u001b[39mwith\u001b[39;00m \u001b[39mopen\u001b[39m(\u001b[39m'\u001b[39m\u001b[39mprocessed_datasetMP(2).csv\u001b[39m\u001b[39m'\u001b[39m, \u001b[39m'\u001b[39m\u001b[39mw\u001b[39m\u001b[39m'\u001b[39m, newline\u001b[39m=\u001b[39m\u001b[39m'\u001b[39m\u001b[39m'\u001b[39m) \u001b[39mas\u001b[39;00m writefile:\n",
      "\u001b[1;32ma:\\PROJECTS\\Machine Learning\\ML_practicals\\melting_point_prediction\\feature_processing.ipynb Cell 13\u001b[0m in \u001b[0;36m4\n\u001b[0;32m     <a href='vscode-notebook-cell:/a%3A/PROJECTS/Machine%20Learning/ML_practicals/melting_point_prediction/feature_processing.ipynb#X15sZmlsZQ%3D%3D?line=39'>40</a>\u001b[0m \u001b[39mdef\u001b[39;00m \u001b[39mnormalization\u001b[39m(\u001b[39mself\u001b[39m):\n\u001b[0;32m     <a href='vscode-notebook-cell:/a%3A/PROJECTS/Machine%20Learning/ML_practicals/melting_point_prediction/feature_processing.ipynb#X15sZmlsZQ%3D%3D?line=40'>41</a>\u001b[0m     normalize \u001b[39m=\u001b[39m []\n\u001b[1;32m---> <a href='vscode-notebook-cell:/a%3A/PROJECTS/Machine%20Learning/ML_practicals/melting_point_prediction/feature_processing.ipynb#X15sZmlsZQ%3D%3D?line=41'>42</a>\u001b[0m     (min_j, max_j) \u001b[39m=\u001b[39m (\u001b[39mmin\u001b[39;49m(\u001b[39mself\u001b[39;49m\u001b[39m.\u001b[39;49mx), \u001b[39mmax\u001b[39m(\u001b[39mself\u001b[39m\u001b[39m.\u001b[39mx))\n\u001b[0;32m     <a href='vscode-notebook-cell:/a%3A/PROJECTS/Machine%20Learning/ML_practicals/melting_point_prediction/feature_processing.ipynb#X15sZmlsZQ%3D%3D?line=42'>43</a>\u001b[0m     \u001b[39mfor\u001b[39;00m j \u001b[39min\u001b[39;00m \u001b[39mself\u001b[39m\u001b[39m.\u001b[39mx:\n\u001b[0;32m     <a href='vscode-notebook-cell:/a%3A/PROJECTS/Machine%20Learning/ML_practicals/melting_point_prediction/feature_processing.ipynb#X15sZmlsZQ%3D%3D?line=43'>44</a>\u001b[0m         normalize\u001b[39m.\u001b[39mappend((j \u001b[39m-\u001b[39m min_j)\u001b[39m/\u001b[39m(max_j \u001b[39m-\u001b[39m min_j))\n",
      "\u001b[1;31mTypeError\u001b[0m: '<' not supported between instances of 'NoneType' and 'float'"
     ]
    }
   ],
   "source": [
    "dataset = (data_row1, data_row2, data_row3, data_row4)\n",
    "preprocess = []\n",
    "# print(dataset)\n",
    "for row in dataset:\n",
    "    print(row)\n",
    "    preprocess.append(pre_processing(row[1:]).normalization())\n",
    "\n",
    "preprocessed_dataset = transform(preprocess)\n",
    "\n",
    "with open('processed_datasetMP(2).csv', 'w', newline='') as writefile:\n",
    "    writable = csv.writer(writefile)\n",
    "    writable.writerows(preprocessed_dataset)"
   ]
  }
 ],
 "metadata": {
  "kernelspec": {
   "display_name": "Python 3 (ipykernel)",
   "language": "python",
   "name": "python3"
  },
  "language_info": {
   "codemirror_mode": {
    "name": "ipython",
    "version": 3
   },
   "file_extension": ".py",
   "mimetype": "text/x-python",
   "name": "python",
   "nbconvert_exporter": "python",
   "pygments_lexer": "ipython3",
   "version": "3.10.4"
  }
 },
 "nbformat": 4,
 "nbformat_minor": 5
}
