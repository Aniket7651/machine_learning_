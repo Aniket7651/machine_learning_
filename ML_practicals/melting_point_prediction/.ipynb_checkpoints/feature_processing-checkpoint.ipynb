{
 "cells": [
  {
   "cell_type": "code",
   "execution_count": 1,
   "id": "5b4555df",
   "metadata": {},
   "outputs": [],
   "source": [
    "import csv\n",
    "import os\n",
    "import requests\n",
    "from bs4 import BeautifulSoup"
   ]
  },
  {
   "cell_type": "code",
   "execution_count": 1,
   "id": "da1be163",
   "metadata": {
    "collapsed": true
   },
   "outputs": [
    {
     "ename": "FileNotFoundError",
     "evalue": "[Errno 2] No such file or directory: 'raw_data/rough.csv'",
     "output_type": "error",
     "traceback": [
      "\u001b[1;31m---------------------------------------------------------------------------\u001b[0m",
      "\u001b[1;31mFileNotFoundError\u001b[0m                         Traceback (most recent call last)",
      "\u001b[1;32ma:\\PROJECTS\\Machine Learning\\ML_practicals\\melting_point_prediction\\.ipynb_checkpoints\\feature_processing-checkpoint.ipynb Cell 2\u001b[0m in \u001b[0;36m2\n\u001b[0;32m      <a href='vscode-notebook-cell:/a%3A/PROJECTS/Machine%20Learning/ML_practicals/melting_point_prediction/.ipynb_checkpoints/feature_processing-checkpoint.ipynb#W1sZmlsZQ%3D%3D?line=0'>1</a>\u001b[0m drugID \u001b[39m=\u001b[39m []\n\u001b[1;32m----> <a href='vscode-notebook-cell:/a%3A/PROJECTS/Machine%20Learning/ML_practicals/melting_point_prediction/.ipynb_checkpoints/feature_processing-checkpoint.ipynb#W1sZmlsZQ%3D%3D?line=1'>2</a>\u001b[0m \u001b[39mwith\u001b[39;00m \u001b[39mopen\u001b[39;49m(\u001b[39m\"\u001b[39;49m\u001b[39mraw_data/rough.csv\u001b[39;49m\u001b[39m\"\u001b[39;49m, \u001b[39m'\u001b[39;49m\u001b[39mr\u001b[39;49m\u001b[39m'\u001b[39;49m) \u001b[39mas\u001b[39;00m csvf:\n\u001b[0;32m      <a href='vscode-notebook-cell:/a%3A/PROJECTS/Machine%20Learning/ML_practicals/melting_point_prediction/.ipynb_checkpoints/feature_processing-checkpoint.ipynb#W1sZmlsZQ%3D%3D?line=2'>3</a>\u001b[0m     \u001b[39mfor\u001b[39;00m i \u001b[39min\u001b[39;00m csv\u001b[39m.\u001b[39mreader(csvf):\n\u001b[0;32m      <a href='vscode-notebook-cell:/a%3A/PROJECTS/Machine%20Learning/ML_practicals/melting_point_prediction/.ipynb_checkpoints/feature_processing-checkpoint.ipynb#W1sZmlsZQ%3D%3D?line=3'>4</a>\u001b[0m         drugID\u001b[39m.\u001b[39mappend(i[\u001b[39m0\u001b[39m])\n",
      "File \u001b[1;32ma:\\python3.10\\lib\\site-packages\\IPython\\core\\interactiveshell.py:282\u001b[0m, in \u001b[0;36m_modified_open\u001b[1;34m(file, *args, **kwargs)\u001b[0m\n\u001b[0;32m    275\u001b[0m \u001b[39mif\u001b[39;00m file \u001b[39min\u001b[39;00m {\u001b[39m0\u001b[39m, \u001b[39m1\u001b[39m, \u001b[39m2\u001b[39m}:\n\u001b[0;32m    276\u001b[0m     \u001b[39mraise\u001b[39;00m \u001b[39mValueError\u001b[39;00m(\n\u001b[0;32m    277\u001b[0m         \u001b[39mf\u001b[39m\u001b[39m\"\u001b[39m\u001b[39mIPython won\u001b[39m\u001b[39m'\u001b[39m\u001b[39mt let you open fd=\u001b[39m\u001b[39m{\u001b[39;00mfile\u001b[39m}\u001b[39;00m\u001b[39m by default \u001b[39m\u001b[39m\"\u001b[39m\n\u001b[0;32m    278\u001b[0m         \u001b[39m\"\u001b[39m\u001b[39mas it is likely to crash IPython. If you know what you are doing, \u001b[39m\u001b[39m\"\u001b[39m\n\u001b[0;32m    279\u001b[0m         \u001b[39m\"\u001b[39m\u001b[39myou can use builtins\u001b[39m\u001b[39m'\u001b[39m\u001b[39m open.\u001b[39m\u001b[39m\"\u001b[39m\n\u001b[0;32m    280\u001b[0m     )\n\u001b[1;32m--> 282\u001b[0m \u001b[39mreturn\u001b[39;00m io_open(file, \u001b[39m*\u001b[39margs, \u001b[39m*\u001b[39m\u001b[39m*\u001b[39mkwargs)\n",
      "\u001b[1;31mFileNotFoundError\u001b[0m: [Errno 2] No such file or directory: 'raw_data/rough.csv'"
     ]
    }
   ],
   "source": [
    "drugID = []\n",
    "with open(\"raw_data/rough.csv\", 'r') as csvf:\n",
    "    for i in csv.reader(csvf):\n",
    "        drugID.append(i[0])\n",
    "drugID[200:300]"
   ]
  },
  {
   "cell_type": "code",
   "execution_count": 5,
   "id": "f2b6cc18",
   "metadata": {},
   "outputs": [],
   "source": [
    "class drug_info():\n",
    "\n",
    "    def __init__(self, drugBank_ID, feature_='html'):\n",
    "        self.id = drugBank_ID\n",
    "        self.feature = feature_\n",
    "\n",
    "    def drug_detail(self):\n",
    "        try:\n",
    "            url = 'https://go.drugbank.com/drugs/%s' %self.id\n",
    "            soup = BeautifulSoup(requests.get(url).text, self.feature)\n",
    "            (key_lis, value_lis) = ([], [])\n",
    "            for dt, dd in zip(soup.select('.card-content dl dt'), soup.select('.card-content dl dd')):\n",
    "                key_lis.append(dt.string)\n",
    "                value_lis.append(dd.string)\n",
    "    \n",
    "            data = {key_lis[i]: value_lis[i] for i in range(len(key_lis))}\n",
    "            return data\n",
    "        except:\n",
    "            return 'connection error!'\n",
    "    \n",
    "    def smile(self):\n",
    "        try:\n",
    "            data = self.drug_detail()\n",
    "            return data['SMILES']  # type: ignore\n",
    "        except:\n",
    "            pass\n",
    "        \n",
    "    def mol_Wight(self):\n",
    "        try:\n",
    "            data = self.drug_detail()\n",
    "            return data['Molecular Weight']   # type: ignore\n",
    "        except:\n",
    "            pass"
   ]
  },
  {
   "cell_type": "code",
   "execution_count": null,
   "id": "2cf83bc4",
   "metadata": {},
   "outputs": [],
   "source": []
  }
 ],
 "metadata": {
  "kernelspec": {
   "display_name": "Python 3 (ipykernel)",
   "language": "python",
   "name": "python3"
  },
  "language_info": {
   "codemirror_mode": {
    "name": "ipython",
    "version": 3
   },
   "file_extension": ".py",
   "mimetype": "text/x-python",
   "name": "python",
   "nbconvert_exporter": "python",
   "pygments_lexer": "ipython3",
   "version": "3.10.4"
  }
 },
 "nbformat": 4,
 "nbformat_minor": 5
}
