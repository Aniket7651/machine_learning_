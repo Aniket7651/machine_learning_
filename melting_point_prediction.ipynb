{
 "cells": [
  {
   "cell_type": "code",
   "execution_count": 15,
   "id": "1aa1a13c",
   "metadata": {},
   "outputs": [
    {
     "data": {
      "text/plain": [
       "2977.8099999999986"
      ]
     },
     "execution_count": 15,
     "metadata": {},
     "output_type": "execute_result"
    }
   ],
   "source": [
    "# this is the program for predict the value of melting point chemical compound using joback method\n",
    "# group contribution is taken from wikipidia site, value of group contribution\n",
    "# is acually the value of phase transtions of tempratures, use only on organic compound \n",
    "def melting_group_contribution(smile_represnt):\n",
    "    # takes the smile represent of chemical structure\n",
    "    # SMALL letter for ring group and CAPITAL for non-ring \n",
    "\n",
    "    forCarbon = {'C': 18.97, 'c': 18.97}\n",
    "    forSulfur = {'S': 44.80, 's': 44.80}\n",
    "    forHalogen = {'F': -15.78, 'I': 41.69}\n",
    "    forNitrogen = {'N': 66.67, 'n': 66.67}\n",
    "    forOxygen = {'O': 55.78, 'o': 55.78}\n",
    "    # this all value is the mean of Tb (phase transtions) for acordinglly ringed or non-ringed group\n",
    "    sum_Gi = 0\n",
    "    if ('Cl'or'Br' or 'NOO') in smile_represnt:\n",
    "        dobCounter = (smile_represnt.count('Br')*43.43,\n",
    "                    smile_represnt.count('Cl')*13.55,\n",
    "                    smile_represnt.count('NOO')*127.24)\n",
    "        for num in dobCounter:\n",
    "            sum_Gi += num\n",
    "        # for Cl, Br, NOO is use sepretly\n",
    "        # also add in sum of Gi (group contribution)\n",
    "        # # for Cl, Br, NOO is use sepretly\n",
    "    for group in smile_represnt:\n",
    "        if group in forCarbon:\n",
    "            sum_Gi += forCarbon[group]      # add corbon Tb in sum of Gi\n",
    "        elif group in forHalogen:\n",
    "            sum_Gi += forHalogen[group]         # add halogen Tb in sum of Gi\n",
    "        elif group in forNitrogen:\n",
    "            sum_Gi += forNitrogen[group]        # add nitrogen Tb in sum of Gi\n",
    "        elif group in forSulfur:\n",
    "            sum_Gi += forSulfur[group]          # add sulfur Tb in sum of Gi\n",
    "        elif group in forOxygen:\n",
    "            sum_Gi += forOxygen[group]          # add oxygen Tb in sum of Gi\n",
    "    # returns answer in floating point use in prediction of normal melting point\n",
    "    return sum_Gi\n",
    "\n",
    "# NBP is stands for normal melting point using joback method\n",
    "# returns single integer type of value \n",
    "def NMP(smile_represnt):\n",
    "    Tm_K = 122.5 + melting_group_contribution(smile_represnt)\n",
    "    # returns the output into kelvin\n",
    "    return Tm_K\n",
    "NMP('')"
   ]
  },
  {
   "cell_type": "code",
   "execution_count": 14,
   "id": "6779c6ca",
   "metadata": {},
   "outputs": [
    {
     "data": {
      "text/plain": [
       "389.59"
      ]
     },
     "execution_count": 14,
     "metadata": {},
     "output_type": "execute_result"
    }
   ],
   "source": []
  }
 ],
 "metadata": {
  "kernelspec": {
   "display_name": "Python 3 (ipykernel)",
   "language": "python",
   "name": "python3"
  },
  "language_info": {
   "codemirror_mode": {
    "name": "ipython",
    "version": 3
   },
   "file_extension": ".py",
   "mimetype": "text/x-python",
   "name": "python",
   "nbconvert_exporter": "python",
   "pygments_lexer": "ipython3",
   "version": "3.10.4"
  },
  "vscode": {
   "interpreter": {
    "hash": "3af0571fb891a5c62aa82008a058ea04fcd85d448c18b175c10a280e9690369d"
   }
  }
 },
 "nbformat": 4,
 "nbformat_minor": 5
}
