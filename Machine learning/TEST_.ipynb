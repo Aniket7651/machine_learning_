{
 "cells": [
  {
   "cell_type": "code",
   "execution_count": null,
   "metadata": {},
   "outputs": [],
   "source": [
    "from pubchempy import *\n",
    "import pandas as pd\n",
    "\n",
    "xlsxFile = 'A:/BIOINFORMAICS/Machine Learning/Machine learning/docs/Pubchem_melting_dataset_fromXML.xlsx'\n",
    "excel = pd.read_excel(xlsxFile, sheet_name='cleaned_set')\n",
    "pubchem_data = []\n",
    "for i in range(100):\n",
    "    pubchem_data.append(excel.iloc[i][0])\n",
    "print(pubchem_data)"
   ]
  },
  {
   "cell_type": "code",
   "execution_count": null,
   "metadata": {},
   "outputs": [],
   "source": [
    "from urllib.request import urlopen\n",
    "from urllib.parse import quote\n",
    "\n",
    "def smiles(identifire):\n",
    "    try:\n",
    "        url = 'https://cactus.nci.nih.gov/chemical/structure/'+quote(identifire)+'/smiles'\n",
    "        out = urlopen(url).read().decode('utf-8')\n",
    "        return out\n",
    "    except:\n",
    "        return 'nan'\n",
    "\n",
    "smile_data = []\n",
    "for i in pubchem_data:\n",
    "    smile_data.append(smiles(i))\n",
    "    print(smiles(i))"
   ]
  },
  {
   "cell_type": "code",
   "execution_count": 6,
   "metadata": {},
   "outputs": [],
   "source": [
    "import xlsxwriter\n",
    "xlfile = \"A:/BIOINFORMAICS/Machine Learning/Machine learning/docs/original data/rough.xlsx\"\n",
    "book = xlsxwriter.Workbook(xlfile)\n",
    "sheet = book.add_worksheet('sheet1')\n",
    "column = 0\n",
    "row = 0\n",
    "for it in smile_data:\n",
    "    sheet.write(row, column, it)\n",
    "    row += 1\n",
    "book.close()\n"
   ]
  },
  {
   "cell_type": "code",
   "execution_count": 20,
   "metadata": {},
   "outputs": [
    {
     "name": "stdout",
     "output_type": "stream",
     "text": [
      "(['s', 'w', 'm'], [5, 4, 1], [1, 3, 2])\n"
     ]
    }
   ],
   "source": [
    "x = ['s','w','w','m','s','s','w','w','s','m','w','s','w','w','s','m'] # s = strong, w = weak, m = mid\n",
    "y = ['y','y','y','n','y','y','n','y','y','n','n','y','n','y','n','y'] # y = yes, n = no\n",
    "\n",
    "def find_unique(x):\n",
    "    unique = []\n",
    "    for u in x:\n",
    "        if u not in unique:\n",
    "            unique.append(u)\n",
    "        else:\n",
    "            pass\n",
    "    return unique\n",
    "\n",
    "\n",
    "def feature_entropy(lable_attrY='y', lable_atterN='n'):\n",
    "    (counter_yes, counter_no) = ([], [])\n",
    "    (feature_yes, feature_no) = ([], [])\n",
    "    \n",
    "    for u in find_unique(x):\n",
    "        for i in range(len(x)):\n",
    "            if x[i] == u and y[i] == lable_attrY:\n",
    "                feature_yes.append('%s'%u)\n",
    "            if x[i] == u and y[i] == lable_atterN:\n",
    "                feature_no.append('%s'%u)\n",
    "        \n",
    "        counter_yes.append(feature_yes.count(u))\n",
    "        counter_no.append(feature_no.count(u))\n",
    "    \n",
    "    return find_unique(x), counter_yes, counter_no\n",
    "\n",
    "print(feature_entropy())"
   ]
  },
  {
   "cell_type": "code",
   "execution_count": null,
   "metadata": {},
   "outputs": [],
   "source": []
  }
 ],
 "metadata": {
  "kernelspec": {
   "display_name": "Python 3.10.4 64-bit",
   "language": "python",
   "name": "python3"
  },
  "language_info": {
   "codemirror_mode": {
    "name": "ipython",
    "version": 3
   },
   "file_extension": ".py",
   "mimetype": "text/x-python",
   "name": "python",
   "nbconvert_exporter": "python",
   "pygments_lexer": "ipython3",
   "version": "3.10.4"
  },
  "orig_nbformat": 4,
  "vscode": {
   "interpreter": {
    "hash": "3af0571fb891a5c62aa82008a058ea04fcd85d448c18b175c10a280e9690369d"
   }
  }
 },
 "nbformat": 4,
 "nbformat_minor": 2
}
