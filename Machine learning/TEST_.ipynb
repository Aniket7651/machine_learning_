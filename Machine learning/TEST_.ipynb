{
 "cells": [
  {
   "cell_type": "code",
   "execution_count": null,
   "metadata": {},
   "outputs": [],
   "source": [
    "from pubchempy import *\n",
    "import pandas as pd\n",
    "\n",
    "xlsxFile = 'A:/BIOINFORMAICS/Machine Learning/Machine learning/docs/Pubchem_melting_dataset_fromXML.xlsx'\n",
    "excel = pd.read_excel(xlsxFile, sheet_name='cleaned_set')\n",
    "pubchem_data = []\n",
    "for i in range(100):\n",
    "    pubchem_data.append(excel.iloc[i][0])\n",
    "print(pubchem_data)"
   ]
  },
  {
   "cell_type": "code",
   "execution_count": null,
   "metadata": {},
   "outputs": [],
   "source": [
    "from urllib.request import urlopen\n",
    "from urllib.parse import quote\n",
    "\n",
    "def smiles(identifire):\n",
    "    try:\n",
    "        url = 'https://cactus.nci.nih.gov/chemical/structure/'+quote(identifire)+'/smiles'\n",
    "        out = urlopen(url).read().decode('utf-8')\n",
    "        return out\n",
    "    except:\n",
    "        return 'nan'\n",
    "\n",
    "smile_data = []\n",
    "for i in pubchem_data:\n",
    "    smile_data.append(smiles(i))\n",
    "    print(smiles(i))"
   ]
  },
  {
   "cell_type": "code",
   "execution_count": null,
   "metadata": {},
   "outputs": [],
   "source": [
    "from deep_algorithm import activation_\n",
    "\n",
    "def node(features, w_s, bias=1.0):\n",
    "    y_ = 0.0\n",
    "    for f, w in zip(features, w_s):\n",
    "        y_ += f*w\n",
    "    return activation_(y_+bias).sig() \n",
    "\n",
    "node([0.33, 0.32, 0.251, 0.41], [0.0, 0.0, 0.0, 0.0])"
   ]
  },
  {
   "cell_type": "code",
   "execution_count": 22,
   "metadata": {},
   "outputs": [
    {
     "ename": "TypeError",
     "evalue": "'float' object is not subscriptable",
     "output_type": "error",
     "traceback": [
      "\u001b[1;31m---------------------------------------------------------------------------\u001b[0m",
      "\u001b[1;31mTypeError\u001b[0m                                 Traceback (most recent call last)",
      "Cell \u001b[1;32mIn [22], line 21\u001b[0m\n\u001b[0;32m     19\u001b[0m Y \u001b[39m=\u001b[39m [\u001b[39m7.2636\u001b[39m, \u001b[39m17.2632\u001b[39m, \u001b[39m92.32334\u001b[39m, \u001b[39m51.7612\u001b[39m, \u001b[39m28.7214\u001b[39m, \u001b[39m29.24\u001b[39m]\n\u001b[0;32m     20\u001b[0m W \u001b[39m=\u001b[39m [\u001b[39m0.0\u001b[39m, \u001b[39m0.0\u001b[39m, \u001b[39m0.0\u001b[39m, \u001b[39m0.0\u001b[39m]\n\u001b[1;32m---> 21\u001b[0m gradient_descent(X, Y, W, \u001b[39m0.0\u001b[39;49m)\n",
      "Cell \u001b[1;32mIn [22], line 8\u001b[0m, in \u001b[0;36mgradient_descent\u001b[1;34m(x, y, w, b, alpha)\u001b[0m\n\u001b[0;32m      6\u001b[0m wx \u001b[39m=\u001b[39m \u001b[39m0.0\u001b[39m\n\u001b[0;32m      7\u001b[0m \u001b[39mfor\u001b[39;00m j \u001b[39min\u001b[39;00m \u001b[39mrange\u001b[39m(\u001b[39mlen\u001b[39m(x[\u001b[39m0\u001b[39m])):\n\u001b[1;32m----> 8\u001b[0m     wx \u001b[39m+\u001b[39m\u001b[39m=\u001b[39m w[i][j]\u001b[39m*\u001b[39mx[i][j]\n\u001b[0;32m      9\u001b[0m     w_d\u001b[39m.\u001b[39mappend(\u001b[39m-\u001b[39m\u001b[39m2\u001b[39m\u001b[39m*\u001b[39mx[i][j]\u001b[39m*\u001b[39m(y[i]\u001b[39m-\u001b[39m(wx\u001b[39m+\u001b[39mb)))\n\u001b[0;32m     10\u001b[0m \u001b[39m# b_d += -2*(y[j]-(w*x[j]+b))\u001b[39;00m\n",
      "\u001b[1;31mTypeError\u001b[0m: 'float' object is not subscriptable"
     ]
    }
   ],
   "source": [
    "def gradient_descent(x, y, w, b, alpha=0.0001):\n",
    "    w_d = []\n",
    "    b_d = 0.0\n",
    "    N = len(x)\n",
    "    for i in range(N):\n",
    "        wx = 0.0\n",
    "        for j in range(len(x[0])):\n",
    "            wx += w[i][j]*x[i][j]\n",
    "            w_d.append(-2*x[i][j]*(y[i]-(wx+b)))\n",
    "        # b_d += -2*(y[j]-(w*x[j]+b))\n",
    "    w = []\n",
    "    for i in range(len(w_d)):\n",
    "        w.append(w[-1] - (1/float(N))*w_d[i]*alpha)\n",
    "    # b = b - (1/float(N))*b_d*alpha\n",
    "    return w\n",
    "\n",
    "X = [[5.1, 3.5, 1.4, 0.2], [4.9, 3.0, 1.4, 0.2], [4.7, 3.2, 1.3, 0.2], \n",
    "        [4.6, 3.1, 1.5, 0.2], [5, 3.6, 1.4, 0.2], [5.4, 3.9, 1.7, 0.4]]\n",
    "Y = [7.2636, 17.2632, 92.32334, 51.7612, 28.7214, 29.24]\n",
    "W = [0.0, 0.0, 0.0, 0.0]\n",
    "gradient_descent(X, Y, W, 0.0)"
   ]
  },
  {
   "cell_type": "code",
   "execution_count": null,
   "metadata": {},
   "outputs": [],
   "source": [
    "import _DATA_processing as ln\n",
    "import matplotlib.pyplot as plt\n",
    "\n",
    "def gradient_descent(x, y, w, b, alpha=0.0001):\n",
    "    w_d = 0.0\n",
    "    b_d = 0.0\n",
    "    N = len(x)\n",
    "    for j in range(N):\n",
    "        w_d += -2*x[j]*(y[j]-(w*x[j]+b))\n",
    "        b_d += -2*(y[j]-(w*x[j]+b))\n",
    "\n",
    "    w = w - (1/float(N))*w_d*alpha\n",
    "    b = b - (1/float(N))*b_d*alpha\n",
    "    return w, b\n",
    "\n",
    "def train_model(x, y, w, b, epoch, check_loss, alpha=0.001):\n",
    "    loss = []\n",
    "    for i in range(epoch):\n",
    "        w, b = gradient_descent(x, y, w, b, alpha)\n",
    "\n",
    "        if i % check_loss == 0:\n",
    "            loss.append(ln.loss_function(y, x, w, b).L2_loss())\n",
    "            print(f'l2 loss on epoch {i}: {ln.loss_function(y, x, w, b).L2_loss()}')\n",
    "    return w, b, loss\n",
    "\n",
    "X = [5.1, 3.5, 1.4, 0.2, 4.9, 3.0]\n",
    "Y = [0.072636, 0.172632, 0.9232334, 0.517612, 0.287214, 0.0292334]\n",
    "loss = train_model(X, Y, 0.0, 0.0, 6, 1, alpha=0.0001)[2]\n",
    "iteration = [i for i in range(6)]\n",
    "\n",
    "plt.plot(iteration, loss, 'r')\n",
    "plt.xlabel('iteration')\n",
    "plt.ylabel('loss')"
   ]
  },
  {
   "cell_type": "code",
   "execution_count": 11,
   "metadata": {},
   "outputs": [
    {
     "name": "stdout",
     "output_type": "stream",
     "text": [
      "[[1. 1. 1.]]\n",
      "[[1.0, 1.0, 1.0]]\n",
      "[70, 64]\n"
     ]
    },
    {
     "data": {
      "text/plain": [
       "array([70, 64])"
      ]
     },
     "execution_count": 11,
     "metadata": {},
     "output_type": "execute_result"
    }
   ],
   "source": [
    "import numpy as np\n",
    "\n",
    "a = [[12,7,3],\n",
    "     [4,5,6],\n",
    "     [7,8,9]]\n",
    "b = [[5,8,1,2],\n",
    "     [6,7,3,0],\n",
    "     [4,5,9,1]]\n",
    "\n",
    "def concatenate(met_a, met_b, axis):\n",
    "    e = []\n",
    "    if axis == 1:\n",
    "        for i, j in zip(met_a, met_b):\n",
    "            e.append(i+j)\n",
    "        return e\n",
    "    elif axis == 0:\n",
    "        return met_a+met_b\n",
    "\n",
    "def shape(metrix):\n",
    "    (cols, rows) = (0, 0)\n",
    "    for i in metrix:\n",
    "        rows+=1\n",
    "    for j in metrix[0]:\n",
    "        cols+=1\n",
    "    return (rows, cols)\n",
    "\n",
    "def ones(shape, multiply=1.0, type=float, metrixShape=1):\n",
    "    metrix = []\n",
    "    for r in range(shape[0]):\n",
    "        cols = []\n",
    "        for c in range(shape[1]):\n",
    "            if type == int:\n",
    "                cols.append(int(1.*multiply))\n",
    "            else: cols.append(1.*multiply)\n",
    "        metrix.append(cols)\n",
    "    return metrix*metrixShape\n",
    "\n",
    "def ones1D(num, multiply=1.0, type=float):\n",
    "    met = []\n",
    "    for i in range(num):\n",
    "        if type == int:\n",
    "            met.append(int(1.*multiply))\n",
    "        else: met.append(1.*multiply)\n",
    "    return met\n",
    "\n",
    "def dot1D_2D(A, B):\n",
    "    return [sum(i*j for i,j in zip(row, B)) for row in A]\n",
    "\n",
    "\n",
    "a1 = [[1,5,6], [5,7,2]]\n",
    "b1 = [3,5,7]\n",
    "print(np.ones((1,3)))\n",
    "print(ones((1,3)))\n",
    "print(dot1D_2D(a1, b1))\n",
    "# print(sum([a1[i]*b1[i] for i in range(len(b1))]))\n",
    "np.dot(a1, b1)\n",
    "# dot1D_2D(a, b)\n",
    "# np.sum()\n",
    "# concatenate(a, b, axis=0)"
   ]
  },
  {
   "cell_type": "code",
   "execution_count": 5,
   "metadata": {},
   "outputs": [
    {
     "name": "stdout",
     "output_type": "stream",
     "text": [
      "[1.1458553310121309, 1.7212572665496217, 1.4918238405220274, 1.2107086939030487, 1.0335728739971766]\n"
     ]
    },
    {
     "data": {
      "image/png": "[encoded data removed]",
      "text/plain": [
       "<Figure size 640x480 with 1 Axes>"
      ]
     },
     "metadata": {},
     "output_type": "display_data"
    }
   ],
   "source": [
    "import matplotlib.pyplot as plt\n",
    "\n",
    "def train_multivariate_model(X, y, epoch, lr=0.001):\n",
    "    m = shape(X)[0] \n",
    "    one_met = ones((m, 1))\n",
    "\n",
    "    X = concatenate(one_met, X, axis=1)\n",
    "    n = shape(X)[1]\n",
    "    theta = ones1D(n)\n",
    "    hypothesis = dot1D_2D(X, theta)\n",
    "    cost = ones1D(epoch)\n",
    "    for i in range(0, epoch):\n",
    "        # print(shape(X), theta[0])\n",
    "        theta[0]=theta[0]-(lr/shape(X)[0])*sum([h-y_ for h, y_ in zip(hypothesis, y)])\n",
    "        for j in range(1, n):\n",
    "            # print('j: ', theta[j], X)\n",
    "            theta[j]=theta[j]-(lr/shape(X)[0])*sum([(h-y_)*X[i][j] for h, y_ in zip(hypothesis, y)])\n",
    "            # print('j af.: ', j)\n",
    "        hypothesis = dot1D_2D(X, theta)\n",
    "        cost[i]=1/(2*m)*sum([(h-y_)**2 for h, y_ in zip(hypothesis, y)])\n",
    "    \n",
    "    return cost, theta\n",
    "\n",
    "X = [[5.1, 3.5, 1.4, 0.2], [4.9, 3.0, 1.4, 0.2], [4.7, 3.2, 1.3, 0.2], \n",
    "        [4.6, 3.1, 1.5, 0.2], [5, 3.6, 1.4, 0.2], [5.4, 3.9, 1.7, 0.4]]\n",
    "Y = [7.2636, 17.2632, 92.32334, 51.7612, 28.7214, 29.24]\n",
    "iteration = [i for i in range(6)]\n",
    "loss = train_multivariate_model(X, Y, 6, lr=0.001)\n",
    "print(loss[1])\n",
    "plt.plot(iteration, loss[0], 'r')\n",
    "plt.title('Multivariable weight optimization')\n",
    "plt.xlabel('iteration')\n",
    "plt.ylabel('loss J(0)')\n",
    "plt.show()\n",
    "\n",
    "# W[:2]"
   ]
  },
  {
   "cell_type": "code",
   "execution_count": 48,
   "metadata": {},
   "outputs": [
    {
     "data": {
      "text/plain": [
       "20"
      ]
     },
     "execution_count": 48,
     "metadata": {},
     "output_type": "execute_result"
    }
   ],
   "source": [
    "def addition(A, B):\n",
    "    A_B = []\n",
    "    for i in range(len(A)):\n",
    "        AB = []\n",
    "        for a, b in zip(A[i], B[i]):\n",
    "            AB.append(a+b)\n",
    "        A_B.append(AB)\n",
    "    return A_B\n",
    "\n",
    "def subtract(A, B):\n",
    "    A_B = []\n",
    "    for i in range(len(A)):\n",
    "        AB = []\n",
    "        for a, b in zip(A[i], B[i]):\n",
    "            AB.append(a-b)\n",
    "        A_B.append(AB)\n",
    "    return A_B\n",
    "    \n",
    "def add_2D_1D(A, B):\n",
    "    A_B = []\n",
    "    for a in A:\n",
    "        ab = []\n",
    "        for i in range(len(a)):\n",
    "            ab.append(a[i]+B[0][i])\n",
    "        A_B.append(ab)\n",
    "    return A_B\n",
    "\n",
    "def subt_2D_1D(A, B):\n",
    "    A_B = []\n",
    "    for a in A:\n",
    "        ab = []\n",
    "        for i in range(len(a)):\n",
    "            ab.append(a[i]-B[0][i])\n",
    "        A_B.append(ab)\n",
    "    return A_B\n",
    "\n",
    "def determinant_2x2(matrix):\n",
    "    return matrix[0][0]*matrix[1][1]-matrix[1][0]*matrix[0][1]\n",
    "\n",
    "\n",
    "a_ = [[1,2,3], [4,5,6], [7,8,9]]\n",
    "b = [[8,5],[4,5]]\n",
    "b_ = [[10, 20, 30]]\n",
    "subt_2D_1D(a_, b_)\n",
    "determinant_2x2(b)"
   ]
  },
  {
   "cell_type": "code",
   "execution_count": 1,
   "metadata": {},
   "outputs": [
    {
     "name": "stdout",
     "output_type": "stream",
     "text": [
      "[[4, 7], [5, 8], [6, 9]] \t [[4, 5, 6], [7, 8, 9]]\n"
     ]
    }
   ],
   "source": [
    "a = [[1,2,3], [4,5,6], [7,8,9]]\n",
    "a1 = a[0]\n",
    "a2 = a[1:]\n",
    "removable = []\n",
    "\n",
    "for j in range(len(a1)):\n",
    "    e_i = []\n",
    "    for i in range(len(a2)):\n",
    "        e_i.append(a2[i][j])\n",
    "    removable.append(e_i)\n",
    "\n",
    "print(removable, '\\t', a2)\n"
   ]
  },
  {
   "cell_type": "code",
   "execution_count": 55,
   "metadata": {},
   "outputs": [
    {
     "data": {
      "text/plain": [
       "[[4, 6], [7, 8, 9]]"
      ]
     },
     "execution_count": 55,
     "metadata": {},
     "output_type": "execute_result"
    }
   ],
   "source": [
    "a = [[4, 5, 6], [7, 8, 9]]\n",
    "a[0].remove(5)\n",
    "a"
   ]
  }
 ],
 "metadata": {
  "kernelspec": {
   "display_name": "Python 3",
   "language": "python",
   "name": "python3"
  },
  "language_info": {
   "codemirror_mode": {
    "name": "ipython",
    "version": 3
   },
   "file_extension": ".py",
   "mimetype": "text/x-python",
   "name": "python",
   "nbconvert_exporter": "python",
   "pygments_lexer": "ipython3",
   "version": "3.10.4"
  },
  "orig_nbformat": 4,
  "vscode": {
   "interpreter": {
    "hash": "0e84a370a1b1f73c8b8d747be20ba5eab4d2c8bec9952ef0b89c9bb920892073"
   }
  }
 },
 "nbformat": 4,
 "nbformat_minor": 2
}
