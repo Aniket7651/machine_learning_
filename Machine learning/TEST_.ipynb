{
 "cells": [
  {
   "cell_type": "code",
   "execution_count": null,
   "metadata": {},
   "outputs": [],
   "source": [
    "from pubchempy import *\n",
    "import pandas as pd\n",
    "\n",
    "xlsxFile = 'A:/BIOINFORMAICS/Machine Learning/Machine learning/docs/Pubchem_melting_dataset_fromXML.xlsx'\n",
    "excel = pd.read_excel(xlsxFile, sheet_name='cleaned_set')\n",
    "pubchem_data = []\n",
    "for i in range(100):\n",
    "    pubchem_data.append(excel.iloc[i][0])\n",
    "print(pubchem_data)"
   ]
  },
  {
   "cell_type": "code",
   "execution_count": null,
   "metadata": {},
   "outputs": [],
   "source": [
    "from urllib.request import urlopen\n",
    "from urllib.parse import quote\n",
    "\n",
    "def smiles(identifire):\n",
    "    try:\n",
    "        url = 'https://cactus.nci.nih.gov/chemical/structure/'+quote(identifire)+'/smiles'\n",
    "        out = urlopen(url).read().decode('utf-8')\n",
    "        return out\n",
    "    except:\n",
    "        return 'nan'\n",
    "\n",
    "smile_data = []\n",
    "for i in pubchem_data:\n",
    "    smile_data.append(smiles(i))\n",
    "    print(smiles(i))"
   ]
  },
  {
   "cell_type": "code",
   "execution_count": 6,
   "metadata": {},
   "outputs": [],
   "source": [
    "import xlsxwriter\n",
    "xlfile = \"A:/BIOINFORMAICS/Machine Learning/Machine learning/docs/original data/rough.xlsx\"\n",
    "book = xlsxwriter.Workbook(xlfile)\n",
    "sheet = book.add_worksheet('sheet1')\n",
    "column = 0\n",
    "row = 0\n",
    "for it in smile_data:\n",
    "    sheet.write(row, column, it)\n",
    "    row += 1\n",
    "book.close()\n"
   ]
  },
  {
   "cell_type": "code",
   "execution_count": null,
   "metadata": {},
   "outputs": [],
   "source": []
  }
 ],
 "metadata": {
  "kernelspec": {
   "display_name": "Python 3.10.4 64-bit",
   "language": "python",
   "name": "python3"
  },
  "language_info": {
   "codemirror_mode": {
    "name": "ipython",
    "version": 3
   },
   "file_extension": ".py",
   "mimetype": "text/x-python",
   "name": "python",
   "nbconvert_exporter": "python",
   "pygments_lexer": "ipython3",
   "version": "3.10.4"
  },
  "orig_nbformat": 4,
  "vscode": {
   "interpreter": {
    "hash": "3af0571fb891a5c62aa82008a058ea04fcd85d448c18b175c10a280e9690369d"
   }
  }
 },
 "nbformat": 4,
 "nbformat_minor": 2
}
